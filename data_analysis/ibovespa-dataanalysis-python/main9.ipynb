{
 "cells": [
  {
   "cell_type": "markdown",
   "metadata": {},
   "source": [
    "# Acessando base de dados do Investing.com"
   ]
  },
  {
   "cell_type": "markdown",
   "metadata": {},
   "source": [
    "## 1 - Importando as ferramentas"
   ]
  },
  {
   "cell_type": "code",
   "execution_count": 1,
   "metadata": {},
   "outputs": [],
   "source": [
    "#https://www3.bcb.gov.br/sgspub/localizarseries/localizarSeries.do?method=prepararTelaLocalizarSeries\n",
    "#https://dadosabertos.bcb.gov.br/dataset/20542-saldo-da-carteira-de-credito-com-recursos-livres---total/resource/6e2b0c97-afab-4790-b8aa-b9542923cf88\n",
    "\n",
    "import pandas as pd\n",
    "import matplotlib.pyplot as plt\n",
    "import matplotlib\n",
    "import seaborn as sns\n",
    "import investpy as inv\n",
    "import warnings\n",
    "warnings.filterwarnings('ignore')\n",
    "#pd.options.display.float_format = '{:.6f}'.format"
   ]
  },
  {
   "cell_type": "markdown",
   "metadata": {},
   "source": [
    "## 2 - Coletando os dados"
   ]
  },
  {
   "cell_type": "code",
   "execution_count": 3,
   "metadata": {},
   "outputs": [],
   "source": [
    "indices_br = inv.get_indices(country='brazil')"
   ]
  },
  {
   "cell_type": "code",
   "execution_count": 4,
   "metadata": {},
   "outputs": [
    {
     "data": {
      "text/plain": [
       "52"
      ]
     },
     "execution_count": 4,
     "metadata": {},
     "output_type": "execute_result"
    }
   ],
   "source": [
    "len(indices_br)"
   ]
  },
  {
   "cell_type": "code",
   "execution_count": 6,
   "metadata": {},
   "outputs": [
    {
     "data": {
      "text/plain": [
       "0                                   MSCI Brazil Net USD\n",
       "1                                             DJ Brazil\n",
       "2                                          TR Brazil 50\n",
       "3                                 MSCI Brazil Price USD\n",
       "4                               DJ Brazil Titans 20 ADR\n",
       "5                                 BNY Mellon Brazil ADR\n",
       "6                              BNY Mellon Brazil ADR TR\n",
       "7                         BNY Mellon Brazil Classic ADR\n",
       "8                      BNY Mellon Brazil Classic ADR TR\n",
       "9                                   FTSE RAFI Brazil 50\n",
       "10                                    MSCI Brazil 10 40\n",
       "11                         DJ BRIC Brazil 15 Capped NTR\n",
       "12                                DJ BRIC Brazil 15 USD\n",
       "13                                DJ BRIC Brazil 15 EUR\n",
       "14                  FTSE Brazil Infrastructure Extended\n",
       "15                                    MSCI Brazil Gross\n",
       "16                           DJ Brazil Titans 20 ADR TR\n",
       "17                              MSCI Brazil 25-50 Price\n",
       "18                       MSCI Brazil 20-50 Gross Return\n",
       "19                         MSCI Brazil 25-50 Net Return\n",
       "20           FTSE Brazil Infrastructure Extended USD PR\n",
       "21     FTSE Brazil Infrastructure Extended Total Return\n",
       "22    FTSE Brazil Infrastructure Extended Net Tax Total\n",
       "23    FTSE Brazil Infrastructure Extended Net Tax US...\n",
       "24                                 DJ BRIC Brazil 15 DR\n",
       "25                                          MSCI Brazil\n",
       "26                         BM&FBOVESPA Unsponsored BDRX\n",
       "27                                      Small Cap Index\n",
       "28                                            Tag Along\n",
       "29                                   Brazil broad-Based\n",
       "30                                         Brazil Index\n",
       "31                                  Mid-Large Cap Index\n",
       "32                                     Public Utilities\n",
       "33                         BM&FBOVESPA Real Estate IFIX\n",
       "34                                           Financials\n",
       "35                                     Carbon Efficient\n",
       "36                           Corporate Governance IGCNM\n",
       "37                                     Bovespa Dividend\n",
       "38                                            Brazil 50\n",
       "39                                  Corporate Gov Trade\n",
       "40                                          FTSE Brazil\n",
       "41                                         Ibovespa EUR\n",
       "42                                         Ibovespa USD\n",
       "43                                                 IVBX\n",
       "44                                                 IGCX\n",
       "45                                          Consumption\n",
       "46                                    Industrial Sector\n",
       "47                                    Electrical Energy\n",
       "48                                      Basic Materials\n",
       "49                                              Bovespa\n",
       "50                             Corporate Sustainability\n",
       "51                                          Real Estate\n",
       "Name: name, dtype: object"
      ]
     },
     "execution_count": 6,
     "metadata": {},
     "output_type": "execute_result"
    }
   ],
   "source": [
    "indices_br['name']"
   ]
  },
  {
   "cell_type": "code",
   "execution_count": null,
   "metadata": {},
   "outputs": [],
   "source": [
    "inv.get_index_recent_data(index='Bovespa', country='brazil')"
   ]
  },
  {
   "cell_type": "code",
   "execution_count": null,
   "metadata": {},
   "outputs": [],
   "source": [
    "ibovespa = inv.get_fund_historical_data(fund='Bovespa', country='brazil',from_date='01/01/2020',to_date='01/12/2020')['Close']"
   ]
  },
  {
   "cell_type": "code",
   "execution_count": null,
   "metadata": {},
   "outputs": [],
   "source": [
    "ibovespa_dol = inv.get_fund_historical_data(fund='IBovespa USD', country='brazil',from_date='01/01/2020',to_date='01/12/2020')['Close']"
   ]
  },
  {
   "cell_type": "code",
   "execution_count": null,
   "metadata": {},
   "outputs": [],
   "source": [
    "ifix = inv.get_index_historical_data(\"BM&FBOVESPA Real Estate IFIX\", country='brazil',from_date='01/01/2020',to_date='01/12/2020')['Close']"
   ]
  },
  {
   "cell_type": "markdown",
   "metadata": {},
   "source": [
    "## 2 - Tratando os dados"
   ]
  },
  {
   "cell_type": "code",
   "execution_count": null,
   "metadata": {},
   "outputs": [],
   "source": [
    "comparativo = pd.DataFrame()\n",
    "data_inicio = ibovespa_dol.index[0]\n",
    "\n",
    "comparativo['ibovespa_dol'] = ibovespa_dol/ibovespa_dol.loc[data_inicio]\n",
    "comparativo['ifix'] = ifix/ifix.loc[data_inicio]"
   ]
  },
  {
   "cell_type": "markdown",
   "metadata": {},
   "source": [
    "## 3 - Visualizando os dados"
   ]
  },
  {
   "cell_type": "code",
   "execution_count": null,
   "metadata": {},
   "outputs": [],
   "source": [
    "comparativo.plot()"
   ]
  }
 ],
 "metadata": {
  "kernelspec": {
   "display_name": "Python 3",
   "language": "python",
   "name": "python3"
  },
  "language_info": {
   "codemirror_mode": {
    "name": "ipython",
    "version": 3
   },
   "file_extension": ".py",
   "mimetype": "text/x-python",
   "name": "python",
   "nbconvert_exporter": "python",
   "pygments_lexer": "ipython3",
   "version": "3.8.10"
  }
 },
 "nbformat": 4,
 "nbformat_minor": 2
}

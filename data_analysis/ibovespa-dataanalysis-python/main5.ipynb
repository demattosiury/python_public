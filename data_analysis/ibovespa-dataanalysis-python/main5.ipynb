{
 "cells": [
  {
   "cell_type": "markdown",
   "metadata": {},
   "source": [
    "# Análise balanço de empresas"
   ]
  },
  {
   "cell_type": "markdown",
   "metadata": {},
   "source": [
    "## 1 - Importando as ferramentas"
   ]
  },
  {
   "cell_type": "code",
   "execution_count": 1,
   "metadata": {},
   "outputs": [],
   "source": [
    "import numpy as np\n",
    "import pandas as pd\n",
    "import requests\n",
    "import string\n",
    "import warnings\n",
    "warnings.filterwarnings('ignore')\n",
    "#pd.options.display.float_format = '{:.6f}'.format\n"
   ]
  },
  {
   "cell_type": "markdown",
   "metadata": {},
   "source": [
    "## 2 - Coletando os dados"
   ]
  },
  {
   "cell_type": "code",
   "execution_count": 37,
   "metadata": {},
   "outputs": [],
   "source": [
    "url = \"https://fundamentus.com.br/resultado.php\"\n",
    "headers = {\n",
    "    \"User-Agent\": \"Mozilla/5.0 (Windows NT 10.0; Win64; x64) AppleWebKit/537.36 (KHTML, like Gecko) Chrome/91.0.4472.124 Safari/537.36\"\n",
    "}"
   ]
  },
  {
   "cell_type": "code",
   "execution_count": 38,
   "metadata": {},
   "outputs": [],
   "source": [
    "response = requests.get(url, headers=headers)"
   ]
  },
  {
   "cell_type": "markdown",
   "metadata": {},
   "source": [
    "### 2.1 - Coletando dados formatados"
   ]
  },
  {
   "cell_type": "code",
   "execution_count": 39,
   "metadata": {},
   "outputs": [],
   "source": [
    "if response.status_code == 200:\n",
    "    df = pd.read_html(response.text,decimal=',',thousands='.')[0]\n",
    "else:\n",
    "    print(f\"{response.status_code}\")"
   ]
  },
  {
   "cell_type": "markdown",
   "metadata": {},
   "source": [
    "### 2.2 - Verificando se os dados estão corretos conforme o site"
   ]
  },
  {
   "cell_type": "code",
   "execution_count": 40,
   "metadata": {},
   "outputs": [
    {
     "data": {
      "text/plain": [
       "Papel                       AALR3\n",
       "Cotação                      10.8\n",
       "P/L                         -9.98\n",
       "P/VP                         1.43\n",
       "PSR                         1.366\n",
       "Div.Yield                   0,00%\n",
       "P/Ativo                     0.624\n",
       "P/Cap.Giro                 -11.34\n",
       "P/EBIT                      20.91\n",
       "P/Ativ Circ.Liq             -1.69\n",
       "EV/EBIT                     28.13\n",
       "EV/EBITDA                    11.9\n",
       "Mrg Ebit                    6,53%\n",
       "Mrg. Líq.                 -12,88%\n",
       "Liq. Corr.                   0.77\n",
       "ROIC                        3,32%\n",
       "ROE                       -14,37%\n",
       "Liq.2meses               218892.0\n",
       "Patrim. Líq          1147410000.0\n",
       "Dív.Brut/ Patrim.            0.64\n",
       "Cresc. Rec.5a               6,00%\n",
       "Name: 109, dtype: object"
      ]
     },
     "metadata": {},
     "output_type": "display_data"
    }
   ],
   "source": [
    "df = df.sort_values(\"Papel\")\n",
    "display(df.iloc[0])"
   ]
  },
  {
   "cell_type": "markdown",
   "metadata": {},
   "source": [
    "### 2.3 - Ajustando string '%' para número"
   ]
  },
  {
   "cell_type": "code",
   "execution_count": null,
   "metadata": {},
   "outputs": [],
   "source": [
    "df.info()"
   ]
  },
  {
   "cell_type": "code",
   "execution_count": 71,
   "metadata": {},
   "outputs": [],
   "source": [
    "format_cols = [col for col in df.columns if df[col].dtype == type(object) and col != 'Papel']\n",
    "\n",
    "def transformToFloat(x):\n",
    "    return float(str(x).replace('.', '').replace(',', '').rstrip('%')) / 100"
   ]
  },
  {
   "cell_type": "code",
   "execution_count": 72,
   "metadata": {},
   "outputs": [],
   "source": [
    "for col in format_cols:\n",
    "    df[col] = df[col].apply(transformToFloat)"
   ]
  },
  {
   "cell_type": "markdown",
   "metadata": {},
   "source": [
    "### 2. 4 Remover empresas que tenham um liquidez menor que R$1.000.000,00 nos últimos meses"
   ]
  },
  {
   "cell_type": "code",
   "execution_count": 75,
   "metadata": {},
   "outputs": [
    {
     "data": {
      "text/plain": [
       "(989, 21)"
      ]
     },
     "execution_count": 75,
     "metadata": {},
     "output_type": "execute_result"
    }
   ],
   "source": [
    "df.shape"
   ]
  },
  {
   "cell_type": "code",
   "execution_count": 78,
   "metadata": {},
   "outputs": [],
   "source": [
    "liquidity = 1000000\n",
    "df = df[df['Liq.2meses'] > liquidity]"
   ]
  },
  {
   "cell_type": "code",
   "execution_count": 79,
   "metadata": {},
   "outputs": [
    {
     "data": {
      "text/plain": [
       "(221, 21)"
      ]
     },
     "execution_count": 79,
     "metadata": {},
     "output_type": "execute_result"
    }
   ],
   "source": [
    "df.shape"
   ]
  },
  {
   "cell_type": "markdown",
   "metadata": {},
   "source": [
    "### 2.5 Filtrar as empresas que se encaixam na 'Formula Mágica - Joel Greenblatt'"
   ]
  },
  {
   "cell_type": "markdown",
   "metadata": {},
   "source": [
    "#### 2.5.1 Objetivos\n",
    "1. Não investir em um título público\n",
    "2. Investir em uma empresa para participar dos lucros/valorização\n",
    "3. Só faz sentido investir em uma empresa se o lucro será maior do que um título apesar de todos os riscos"
   ]
  },
  {
   "cell_type": "markdown",
   "metadata": {},
   "source": [
    "##### Comprar algo valioso quando estiver em um preço de pechincha\n",
    "1. ROA: Retrono do Capital = EBIT/(Capital de Giro + Ativos Fixos)\n",
    "2. ROE: Retorno Empresa = EBIT/(Valor de Mercado + Dívida Líq. - Caixa)   \n",
    "EBIT = Lucro antes de juros ou impostos tirado da DRE (Relatório Contábil de um determinado período - Demonstração do Resultado do Exercício)"
   ]
  },
  {
   "cell_type": "code",
   "execution_count": 84,
   "metadata": {},
   "outputs": [],
   "source": [
    "ranking = pd.DataFrame()\n",
    "ranking['pos'] = range(1,151)\n",
    "# Valor da Firma  = Valor de mercado + Dívida líquida\n",
    "# Valor de mercado = cotação * nro. de ações\n",
    "ranking['EV/EBIT'] = df[df['EV/EBIT'] > 0].sort_values(by=['EV/EBIT'])['Papel'][:150].values\n",
    "ranking['ROIC'] = df.sort_values(by=['ROIC'], ascending=False)['Papel'][:150].values"
   ]
  },
  {
   "cell_type": "code",
   "execution_count": 85,
   "metadata": {},
   "outputs": [
    {
     "data": {
      "text/html": [
       "<div>\n",
       "<style scoped>\n",
       "    .dataframe tbody tr th:only-of-type {\n",
       "        vertical-align: middle;\n",
       "    }\n",
       "\n",
       "    .dataframe tbody tr th {\n",
       "        vertical-align: top;\n",
       "    }\n",
       "\n",
       "    .dataframe thead th {\n",
       "        text-align: right;\n",
       "    }\n",
       "</style>\n",
       "<table border=\"1\" class=\"dataframe\">\n",
       "  <thead>\n",
       "    <tr style=\"text-align: right;\">\n",
       "      <th></th>\n",
       "      <th>pos</th>\n",
       "      <th>EV/EBIT</th>\n",
       "      <th>ROIC</th>\n",
       "    </tr>\n",
       "  </thead>\n",
       "  <tbody>\n",
       "    <tr>\n",
       "      <th>0</th>\n",
       "      <td>1</td>\n",
       "      <td>PSSA3</td>\n",
       "      <td>PSSA3</td>\n",
       "    </tr>\n",
       "    <tr>\n",
       "      <th>1</th>\n",
       "      <td>2</td>\n",
       "      <td>WIZC3</td>\n",
       "      <td>PLPL3</td>\n",
       "    </tr>\n",
       "    <tr>\n",
       "      <th>2</th>\n",
       "      <td>3</td>\n",
       "      <td>SYNE3</td>\n",
       "      <td>ODPV3</td>\n",
       "    </tr>\n",
       "    <tr>\n",
       "      <th>3</th>\n",
       "      <td>4</td>\n",
       "      <td>GOAU4</td>\n",
       "      <td>CURY3</td>\n",
       "    </tr>\n",
       "    <tr>\n",
       "      <th>4</th>\n",
       "      <td>5</td>\n",
       "      <td>PCAR3</td>\n",
       "      <td>LEVE3</td>\n",
       "    </tr>\n",
       "    <tr>\n",
       "      <th>...</th>\n",
       "      <td>...</td>\n",
       "      <td>...</td>\n",
       "      <td>...</td>\n",
       "    </tr>\n",
       "    <tr>\n",
       "      <th>145</th>\n",
       "      <td>146</td>\n",
       "      <td>FRAS3</td>\n",
       "      <td>EMBR3</td>\n",
       "    </tr>\n",
       "    <tr>\n",
       "      <th>146</th>\n",
       "      <td>147</td>\n",
       "      <td>GOLL4</td>\n",
       "      <td>PFRM3</td>\n",
       "    </tr>\n",
       "    <tr>\n",
       "      <th>147</th>\n",
       "      <td>148</td>\n",
       "      <td>PETZ3</td>\n",
       "      <td>RAIZ4</td>\n",
       "    </tr>\n",
       "    <tr>\n",
       "      <th>148</th>\n",
       "      <td>149</td>\n",
       "      <td>PORT3</td>\n",
       "      <td>BHIA3</td>\n",
       "    </tr>\n",
       "    <tr>\n",
       "      <th>149</th>\n",
       "      <td>150</td>\n",
       "      <td>ELET3</td>\n",
       "      <td>TRIS3</td>\n",
       "    </tr>\n",
       "  </tbody>\n",
       "</table>\n",
       "<p>150 rows × 3 columns</p>\n",
       "</div>"
      ],
      "text/plain": [
       "     pos EV/EBIT   ROIC\n",
       "0      1   PSSA3  PSSA3\n",
       "1      2   WIZC3  PLPL3\n",
       "2      3   SYNE3  ODPV3\n",
       "3      4   GOAU4  CURY3\n",
       "4      5   PCAR3  LEVE3\n",
       "..   ...     ...    ...\n",
       "145  146   FRAS3  EMBR3\n",
       "146  147   GOLL4  PFRM3\n",
       "147  148   PETZ3  RAIZ4\n",
       "148  149   PORT3  BHIA3\n",
       "149  150   ELET3  TRIS3\n",
       "\n",
       "[150 rows x 3 columns]"
      ]
     },
     "execution_count": 85,
     "metadata": {},
     "output_type": "execute_result"
    }
   ],
   "source": [
    "ranking"
   ]
  },
  {
   "cell_type": "code",
   "execution_count": 86,
   "metadata": {},
   "outputs": [],
   "source": [
    "a = ranking.pivot_table(columns='EV/EBIT', values='pos')"
   ]
  },
  {
   "cell_type": "code",
   "execution_count": 88,
   "metadata": {},
   "outputs": [],
   "source": [
    "b = ranking.pivot_table(columns='ROIC', values='pos')"
   ]
  },
  {
   "cell_type": "code",
   "execution_count": 89,
   "metadata": {},
   "outputs": [],
   "source": [
    "t = pd.concat([a,b])"
   ]
  },
  {
   "cell_type": "code",
   "execution_count": 91,
   "metadata": {},
   "outputs": [],
   "source": [
    "rank = t.dropna(axis=1).sum()"
   ]
  },
  {
   "cell_type": "markdown",
   "metadata": {},
   "source": [
    "## 3 - Visualizando os dados"
   ]
  },
  {
   "cell_type": "code",
   "execution_count": 93,
   "metadata": {},
   "outputs": [
    {
     "data": {
      "text/plain": [
       "PSSA3      2\n",
       "WIZC3      8\n",
       "PLPL3      8\n",
       "PETR4     25\n",
       "CMIN3     29\n",
       "BRBI11    29\n",
       "PETR3     31\n",
       "SYNE3     35\n",
       "KEPL3     38\n",
       "LEVE3     39\n",
       "VALE3     43\n",
       "LREN3     45\n",
       "VLID3     47\n",
       "ASAI3     48\n",
       "SBSP3     51\n",
       "dtype: int64"
      ]
     },
     "execution_count": 93,
     "metadata": {},
     "output_type": "execute_result"
    }
   ],
   "source": [
    "rank.sort_values()[:15]"
   ]
  },
  {
   "cell_type": "code",
   "execution_count": null,
   "metadata": {},
   "outputs": [],
   "source": [
    "# Filtrar empresas do setor financeiro (sofrem distorções)"
   ]
  }
 ],
 "metadata": {
  "kernelspec": {
   "display_name": "Python 3",
   "language": "python",
   "name": "python3"
  },
  "language_info": {
   "codemirror_mode": {
    "name": "ipython",
    "version": 3
   },
   "file_extension": ".py",
   "mimetype": "text/x-python",
   "name": "python",
   "nbconvert_exporter": "python",
   "pygments_lexer": "ipython3",
   "version": "3.8.10"
  }
 },
 "nbformat": 4,
 "nbformat_minor": 2
}

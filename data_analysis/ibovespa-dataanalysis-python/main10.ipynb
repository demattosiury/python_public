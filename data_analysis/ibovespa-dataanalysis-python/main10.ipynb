{
 "cells": [
  {
   "cell_type": "markdown",
   "metadata": {},
   "source": [
    "# Curva de Juros"
   ]
  },
  {
   "cell_type": "markdown",
   "metadata": {},
   "source": [
    "## 1 - Importando as ferramentas"
   ]
  },
  {
   "cell_type": "code",
   "execution_count": 1,
   "metadata": {},
   "outputs": [],
   "source": [
    "import pandas as pd\n",
    "import matplotlib.pyplot as plt\n",
    "import matplotlib\n",
    "import seaborn as sns\n",
    "import investpy as inv\n",
    "import warnings\n",
    "warnings.filterwarnings('ignore')\n",
    "#pd.options.display.float_format = '{:.6f}'.format"
   ]
  },
  {
   "cell_type": "markdown",
   "metadata": {},
   "source": [
    "## 2 - Coletando os dados"
   ]
  },
  {
   "cell_type": "code",
   "execution_count": 2,
   "metadata": {},
   "outputs": [],
   "source": [
    "bonds_br = inv.get_bonds_list(country='brazil')"
   ]
  },
  {
   "cell_type": "code",
   "execution_count": 3,
   "metadata": {},
   "outputs": [
    {
     "data": {
      "text/plain": [
       "9"
      ]
     },
     "execution_count": 3,
     "metadata": {},
     "output_type": "execute_result"
    }
   ],
   "source": [
    "len(bonds_br)"
   ]
  },
  {
   "cell_type": "code",
   "execution_count": 4,
   "metadata": {},
   "outputs": [
    {
     "data": {
      "text/plain": [
       "['Brazil 3M',\n",
       " 'Brazil 6M',\n",
       " 'Brazil 9M',\n",
       " 'Brazil 1Y',\n",
       " 'Brazil 2Y',\n",
       " 'Brazil 3Y',\n",
       " 'Brazil 5Y',\n",
       " 'Brazil 8Y',\n",
       " 'Brazil 10Y']"
      ]
     },
     "execution_count": 4,
     "metadata": {},
     "output_type": "execute_result"
    }
   ],
   "source": [
    "bonds_br"
   ]
  },
  {
   "cell_type": "code",
   "execution_count": 5,
   "metadata": {},
   "outputs": [],
   "source": [
    "bonds_overview = inv.get_bonds_overview('brazil')"
   ]
  },
  {
   "cell_type": "code",
   "execution_count": 6,
   "metadata": {},
   "outputs": [
    {
     "data": {
      "text/html": [
       "<div>\n",
       "<style scoped>\n",
       "    .dataframe tbody tr th:only-of-type {\n",
       "        vertical-align: middle;\n",
       "    }\n",
       "\n",
       "    .dataframe tbody tr th {\n",
       "        vertical-align: top;\n",
       "    }\n",
       "\n",
       "    .dataframe thead th {\n",
       "        text-align: right;\n",
       "    }\n",
       "</style>\n",
       "<table border=\"1\" class=\"dataframe\">\n",
       "  <thead>\n",
       "    <tr style=\"text-align: right;\">\n",
       "      <th></th>\n",
       "      <th>country</th>\n",
       "      <th>name</th>\n",
       "      <th>last</th>\n",
       "      <th>last_close</th>\n",
       "      <th>high</th>\n",
       "      <th>low</th>\n",
       "      <th>change</th>\n",
       "      <th>change_percentage</th>\n",
       "    </tr>\n",
       "  </thead>\n",
       "  <tbody>\n",
       "    <tr>\n",
       "      <th>0</th>\n",
       "      <td>brazil</td>\n",
       "      <td>Brazil 3M</td>\n",
       "      <td>13.153</td>\n",
       "      <td>13.153</td>\n",
       "      <td>13.162</td>\n",
       "      <td>13.135</td>\n",
       "      <td>0.000</td>\n",
       "      <td>0.00%</td>\n",
       "    </tr>\n",
       "    <tr>\n",
       "      <th>1</th>\n",
       "      <td>brazil</td>\n",
       "      <td>Brazil 6M</td>\n",
       "      <td>13.962</td>\n",
       "      <td>13.962</td>\n",
       "      <td>13.980</td>\n",
       "      <td>13.940</td>\n",
       "      <td>0.000</td>\n",
       "      <td>0.00%</td>\n",
       "    </tr>\n",
       "    <tr>\n",
       "      <th>2</th>\n",
       "      <td>brazil</td>\n",
       "      <td>Brazil 9M</td>\n",
       "      <td>14.532</td>\n",
       "      <td>14.532</td>\n",
       "      <td>14.550</td>\n",
       "      <td>14.510</td>\n",
       "      <td>0.000</td>\n",
       "      <td>0.00%</td>\n",
       "    </tr>\n",
       "    <tr>\n",
       "      <th>3</th>\n",
       "      <td>brazil</td>\n",
       "      <td>Brazil 1Y</td>\n",
       "      <td>14.892</td>\n",
       "      <td>14.892</td>\n",
       "      <td>14.895</td>\n",
       "      <td>14.828</td>\n",
       "      <td>0.000</td>\n",
       "      <td>0.00%</td>\n",
       "    </tr>\n",
       "    <tr>\n",
       "      <th>4</th>\n",
       "      <td>brazil</td>\n",
       "      <td>Brazil 2Y</td>\n",
       "      <td>15.125</td>\n",
       "      <td>15.125</td>\n",
       "      <td>15.125</td>\n",
       "      <td>15.125</td>\n",
       "      <td>0.000</td>\n",
       "      <td>0.00%</td>\n",
       "    </tr>\n",
       "    <tr>\n",
       "      <th>5</th>\n",
       "      <td>brazil</td>\n",
       "      <td>Brazil 3Y</td>\n",
       "      <td>15.130</td>\n",
       "      <td>15.130</td>\n",
       "      <td>15.130</td>\n",
       "      <td>15.130</td>\n",
       "      <td>0.000</td>\n",
       "      <td>0.00%</td>\n",
       "    </tr>\n",
       "    <tr>\n",
       "      <th>6</th>\n",
       "      <td>brazil</td>\n",
       "      <td>Brazil 5Y</td>\n",
       "      <td>15.220</td>\n",
       "      <td>15.220</td>\n",
       "      <td>15.220</td>\n",
       "      <td>15.220</td>\n",
       "      <td>0.000</td>\n",
       "      <td>0.00%</td>\n",
       "    </tr>\n",
       "    <tr>\n",
       "      <th>7</th>\n",
       "      <td>brazil</td>\n",
       "      <td>Brazil 8Y</td>\n",
       "      <td>15.071</td>\n",
       "      <td>15.071</td>\n",
       "      <td>15.140</td>\n",
       "      <td>14.850</td>\n",
       "      <td>0.000</td>\n",
       "      <td>0.00%</td>\n",
       "    </tr>\n",
       "    <tr>\n",
       "      <th>8</th>\n",
       "      <td>brazil</td>\n",
       "      <td>Brazil 10Y</td>\n",
       "      <td>15.039</td>\n",
       "      <td>15.039</td>\n",
       "      <td>15.070</td>\n",
       "      <td>14.755</td>\n",
       "      <td>0.000</td>\n",
       "      <td>0.00%</td>\n",
       "    </tr>\n",
       "  </tbody>\n",
       "</table>\n",
       "</div>"
      ],
      "text/plain": [
       "  country        name    last  last_close    high     low change  \\\n",
       "0  brazil   Brazil 3M  13.153      13.153  13.162  13.135  0.000   \n",
       "1  brazil   Brazil 6M  13.962      13.962  13.980  13.940  0.000   \n",
       "2  brazil   Brazil 9M  14.532      14.532  14.550  14.510  0.000   \n",
       "3  brazil   Brazil 1Y  14.892      14.892  14.895  14.828  0.000   \n",
       "4  brazil   Brazil 2Y  15.125      15.125  15.125  15.125  0.000   \n",
       "5  brazil   Brazil 3Y  15.130      15.130  15.130  15.130  0.000   \n",
       "6  brazil   Brazil 5Y  15.220      15.220  15.220  15.220  0.000   \n",
       "7  brazil   Brazil 8Y  15.071      15.071  15.140  14.850  0.000   \n",
       "8  brazil  Brazil 10Y  15.039      15.039  15.070  14.755  0.000   \n",
       "\n",
       "  change_percentage  \n",
       "0             0.00%  \n",
       "1             0.00%  \n",
       "2             0.00%  \n",
       "3             0.00%  \n",
       "4             0.00%  \n",
       "5             0.00%  \n",
       "6             0.00%  \n",
       "7             0.00%  \n",
       "8             0.00%  "
      ]
     },
     "execution_count": 6,
     "metadata": {},
     "output_type": "execute_result"
    }
   ],
   "source": [
    "bonds_overview"
   ]
  },
  {
   "cell_type": "code",
   "execution_count": 7,
   "metadata": {},
   "outputs": [
    {
     "data": {
      "text/plain": [
       "[<matplotlib.lines.Line2D at 0x1dc05c28370>]"
      ]
     },
     "execution_count": 7,
     "metadata": {},
     "output_type": "execute_result"
    },
    {
     "data": {
      "image/png": "[encoded data removed]",
      "text/plain": [
       "<Figure size 640x480 with 1 Axes>"
      ]
     },
     "metadata": {},
     "output_type": "display_data"
    }
   ],
   "source": [
    "plt.plot(bonds_br, bonds_overview['last_close'])"
   ]
  },
  {
   "cell_type": "markdown",
   "metadata": {},
   "source": [
    "## 2 - Tratando os dados"
   ]
  },
  {
   "cell_type": "code",
   "execution_count": null,
   "metadata": {},
   "outputs": [],
   "source": [
    "comparativo = pd.DataFrame()\n",
    "data_inicio = ibovespa_dol.index[0]\n",
    "\n",
    "comparativo['ibovespa_dol'] = ibovespa_dol/ibovespa_dol.loc[data_inicio]\n",
    "comparativo['ifix'] = ifix/ifix.loc[data_inicio]"
   ]
  },
  {
   "cell_type": "markdown",
   "metadata": {},
   "source": [
    "## 3 - Visualizando os dados"
   ]
  },
  {
   "cell_type": "code",
   "execution_count": null,
   "metadata": {},
   "outputs": [],
   "source": [
    "comparativo.plot()"
   ]
  }
 ],
 "metadata": {
  "kernelspec": {
   "display_name": "Python 3",
   "language": "python",
   "name": "python3"
  },
  "language_info": {
   "codemirror_mode": {
    "name": "ipython",
    "version": 3
   },
   "file_extension": ".py",
   "mimetype": "text/x-python",
   "name": "python",
   "nbconvert_exporter": "python",
   "pygments_lexer": "ipython3",
   "version": "3.8.10"
  }
 },
 "nbformat": 4,
 "nbformat_minor": 2
}

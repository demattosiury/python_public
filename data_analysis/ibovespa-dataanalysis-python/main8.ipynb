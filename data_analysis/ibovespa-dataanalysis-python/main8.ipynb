{
 "cells": [
  {
   "cell_type": "markdown",
   "metadata": {},
   "source": [
    "# Acessando base de dados do Investing.com"
   ]
  },
  {
   "cell_type": "markdown",
   "metadata": {},
   "source": [
    "## 1 - Importando as ferramentas"
   ]
  },
  {
   "cell_type": "code",
   "execution_count": 1,
   "metadata": {},
   "outputs": [],
   "source": [
    "#https://www3.bcb.gov.br/sgspub/localizarseries/localizarSeries.do?method=prepararTelaLocalizarSeries\n",
    "#https://dadosabertos.bcb.gov.br/dataset/20542-saldo-da-carteira-de-credito-com-recursos-livres---total/resource/6e2b0c97-afab-4790-b8aa-b9542923cf88\n",
    "\n",
    "import pandas as pd\n",
    "import matplotlib.pyplot as plt\n",
    "import matplotlib\n",
    "import seaborn as sns\n",
    "import investpy as inv\n",
    "import warnings\n",
    "warnings.filterwarnings('ignore')\n",
    "#pd.options.display.float_format = '{:.6f}'.format"
   ]
  },
  {
   "cell_type": "markdown",
   "metadata": {},
   "source": [
    "## 2 - Coletando os dados"
   ]
  },
  {
   "cell_type": "code",
   "execution_count": 2,
   "metadata": {},
   "outputs": [],
   "source": [
    "fundos_br = inv.get_funds_list(country='brazil')"
   ]
  },
  {
   "cell_type": "code",
   "execution_count": 3,
   "metadata": {},
   "outputs": [
    {
     "data": {
      "text/plain": [
       "5200"
      ]
     },
     "execution_count": 3,
     "metadata": {},
     "output_type": "execute_result"
    }
   ],
   "source": [
    "len(fundos_br)"
   ]
  },
  {
   "cell_type": "code",
   "execution_count": 4,
   "metadata": {},
   "outputs": [
    {
     "data": {
      "text/html": [
       "<div>\n",
       "<style scoped>\n",
       "    .dataframe tbody tr th:only-of-type {\n",
       "        vertical-align: middle;\n",
       "    }\n",
       "\n",
       "    .dataframe tbody tr th {\n",
       "        vertical-align: top;\n",
       "    }\n",
       "\n",
       "    .dataframe thead th {\n",
       "        text-align: right;\n",
       "    }\n",
       "</style>\n",
       "<table border=\"1\" class=\"dataframe\">\n",
       "  <thead>\n",
       "    <tr style=\"text-align: right;\">\n",
       "      <th></th>\n",
       "      <th>country</th>\n",
       "      <th>name</th>\n",
       "      <th>symbol</th>\n",
       "      <th>issuer</th>\n",
       "      <th>isin</th>\n",
       "      <th>asset_class</th>\n",
       "      <th>currency</th>\n",
       "      <th>underlying</th>\n",
       "    </tr>\n",
       "  </thead>\n",
       "  <tbody>\n",
       "    <tr>\n",
       "      <th>0</th>\n",
       "      <td>brazil</td>\n",
       "      <td>Alaska Black Fundo De Investimento Em Cotas De...</td>\n",
       "      <td>0P0000U9BK</td>\n",
       "      <td>Alaska Investimentos LTDA.</td>\n",
       "      <td>BRSKP7CTF008</td>\n",
       "      <td>other</td>\n",
       "      <td>BRL</td>\n",
       "      <td></td>\n",
       "    </tr>\n",
       "    <tr>\n",
       "      <th>1</th>\n",
       "      <td>brazil</td>\n",
       "      <td>Alaska Black Master Fundo De Investimento Em A...</td>\n",
       "      <td>0P0000U9BJ</td>\n",
       "      <td>Alaska Investimentos LTDA.</td>\n",
       "      <td>BRSKI1CTF000</td>\n",
       "      <td>other</td>\n",
       "      <td>BRL</td>\n",
       "      <td></td>\n",
       "    </tr>\n",
       "    <tr>\n",
       "      <th>2</th>\n",
       "      <td>brazil</td>\n",
       "      <td>Alaska Black Fundo De Investimento Em Cotas De...</td>\n",
       "      <td>0P00019LLR</td>\n",
       "      <td>Alaska Investimentos LTDA.</td>\n",
       "      <td>BRALK5CTF006</td>\n",
       "      <td>equity</td>\n",
       "      <td>BRL</td>\n",
       "      <td></td>\n",
       "    </tr>\n",
       "    <tr>\n",
       "      <th>3</th>\n",
       "      <td>brazil</td>\n",
       "      <td>Alaska Black Institucional Fundo De Investimen...</td>\n",
       "      <td>0P00019X6E</td>\n",
       "      <td>Alaska Investimentos LTDA.</td>\n",
       "      <td>BRASK4CTF002</td>\n",
       "      <td>equity</td>\n",
       "      <td>BRL</td>\n",
       "      <td></td>\n",
       "    </tr>\n",
       "    <tr>\n",
       "      <th>4</th>\n",
       "      <td>brazil</td>\n",
       "      <td>Alfa Alaska Black Institucional - Fundo De Inv...</td>\n",
       "      <td>0P0001CF6A</td>\n",
       "      <td>Banco Alfa Investimentos SA</td>\n",
       "      <td>BRLSK1CTF005</td>\n",
       "      <td>equity</td>\n",
       "      <td>BRL</td>\n",
       "      <td></td>\n",
       "    </tr>\n",
       "  </tbody>\n",
       "</table>\n",
       "</div>"
      ],
      "text/plain": [
       "  country                                               name      symbol  \\\n",
       "0  brazil  Alaska Black Fundo De Investimento Em Cotas De...  0P0000U9BK   \n",
       "1  brazil  Alaska Black Master Fundo De Investimento Em A...  0P0000U9BJ   \n",
       "2  brazil  Alaska Black Fundo De Investimento Em Cotas De...  0P00019LLR   \n",
       "3  brazil  Alaska Black Institucional Fundo De Investimen...  0P00019X6E   \n",
       "4  brazil  Alfa Alaska Black Institucional - Fundo De Inv...  0P0001CF6A   \n",
       "\n",
       "                        issuer          isin asset_class currency underlying  \n",
       "0   Alaska Investimentos LTDA.  BRSKP7CTF008       other      BRL             \n",
       "1   Alaska Investimentos LTDA.  BRSKI1CTF000       other      BRL             \n",
       "2   Alaska Investimentos LTDA.  BRALK5CTF006      equity      BRL             \n",
       "3   Alaska Investimentos LTDA.  BRASK4CTF002      equity      BRL             \n",
       "4  Banco Alfa Investimentos SA  BRLSK1CTF005      equity      BRL             "
      ]
     },
     "execution_count": 4,
     "metadata": {},
     "output_type": "execute_result"
    }
   ],
   "source": [
    "pesq = inv.search_funds(by='name', value='alaska black')\n",
    "pesq"
   ]
  },
  {
   "cell_type": "code",
   "execution_count": 8,
   "metadata": {},
   "outputs": [
    {
     "data": {
      "text/plain": [
       "'Alaska Black Fundo De Investimento Em Cotas De Fundos De Investimento Em Ações - Bdr Nível I'"
      ]
     },
     "execution_count": 8,
     "metadata": {},
     "output_type": "execute_result"
    }
   ],
   "source": [
    "fundo = pesq['name'][0]\n",
    "fundo"
   ]
  },
  {
   "cell_type": "code",
   "execution_count": null,
   "metadata": {},
   "outputs": [],
   "source": [
    "alaska = inv.get_fund_historical_data(fund=fundo, country='brazil',from_date='01/01/2020',to_date='01/12/2020')['Close']"
   ]
  },
  {
   "cell_type": "code",
   "execution_count": 11,
   "metadata": {},
   "outputs": [
    {
     "data": {
      "text/html": [
       "<div>\n",
       "<style scoped>\n",
       "    .dataframe tbody tr th:only-of-type {\n",
       "        vertical-align: middle;\n",
       "    }\n",
       "\n",
       "    .dataframe tbody tr th {\n",
       "        vertical-align: top;\n",
       "    }\n",
       "\n",
       "    .dataframe thead th {\n",
       "        text-align: right;\n",
       "    }\n",
       "</style>\n",
       "<table border=\"1\" class=\"dataframe\">\n",
       "  <thead>\n",
       "    <tr style=\"text-align: right;\">\n",
       "      <th></th>\n",
       "      <th>country</th>\n",
       "      <th>name</th>\n",
       "      <th>symbol</th>\n",
       "      <th>issuer</th>\n",
       "      <th>isin</th>\n",
       "      <th>asset_class</th>\n",
       "      <th>currency</th>\n",
       "      <th>underlying</th>\n",
       "    </tr>\n",
       "  </thead>\n",
       "  <tbody>\n",
       "    <tr>\n",
       "      <th>0</th>\n",
       "      <td>brazil</td>\n",
       "      <td>Ip Participações Master Fundo De Investimento ...</td>\n",
       "      <td>0P0000U6BB</td>\n",
       "      <td>Investidor Profissional Gestão de Recursos Ltda</td>\n",
       "      <td>BRIPP5CTF009</td>\n",
       "      <td>equity</td>\n",
       "      <td>BRL</td>\n",
       "      <td></td>\n",
       "    </tr>\n",
       "    <tr>\n",
       "      <th>1</th>\n",
       "      <td>brazil</td>\n",
       "      <td>Ip Participações Ipg Fundo De Investimento Em ...</td>\n",
       "      <td>0P0000U6PB</td>\n",
       "      <td>Investidor Profissional Gestão de Recursos Ltda</td>\n",
       "      <td>BRORM2CTF009</td>\n",
       "      <td>equity</td>\n",
       "      <td>BRL</td>\n",
       "      <td></td>\n",
       "    </tr>\n",
       "    <tr>\n",
       "      <th>2</th>\n",
       "      <td>brazil</td>\n",
       "      <td>Ip Participações Fundo De Investimento Em Cota...</td>\n",
       "      <td>0P0000U6B9</td>\n",
       "      <td>Investidor Profissional Gestão de Recursos Ltda</td>\n",
       "      <td>BRIPPTCTF007</td>\n",
       "      <td>equity</td>\n",
       "      <td>BRL</td>\n",
       "      <td></td>\n",
       "    </tr>\n",
       "  </tbody>\n",
       "</table>\n",
       "</div>"
      ],
      "text/plain": [
       "  country                                               name      symbol  \\\n",
       "0  brazil  Ip Participações Master Fundo De Investimento ...  0P0000U6BB   \n",
       "1  brazil  Ip Participações Ipg Fundo De Investimento Em ...  0P0000U6PB   \n",
       "2  brazil  Ip Participações Fundo De Investimento Em Cota...  0P0000U6B9   \n",
       "\n",
       "                                            issuer          isin asset_class  \\\n",
       "0  Investidor Profissional Gestão de Recursos Ltda  BRIPP5CTF009      equity   \n",
       "1  Investidor Profissional Gestão de Recursos Ltda  BRORM2CTF009      equity   \n",
       "2  Investidor Profissional Gestão de Recursos Ltda  BRIPPTCTF007      equity   \n",
       "\n",
       "  currency underlying  \n",
       "0      BRL             \n",
       "1      BRL             \n",
       "2      BRL             "
      ]
     },
     "execution_count": 11,
     "metadata": {},
     "output_type": "execute_result"
    }
   ],
   "source": [
    "pesq = inv.search_funds(by='name', value='ip parti')\n",
    "pesq"
   ]
  },
  {
   "cell_type": "code",
   "execution_count": 12,
   "metadata": {},
   "outputs": [
    {
     "data": {
      "text/plain": [
       "'Ip Participações Master Fundo De Investimento Em Ações Bdr Nível I'"
      ]
     },
     "execution_count": 12,
     "metadata": {},
     "output_type": "execute_result"
    }
   ],
   "source": [
    "fundo = pesq['name'][0]\n",
    "fundo"
   ]
  },
  {
   "cell_type": "code",
   "execution_count": null,
   "metadata": {},
   "outputs": [],
   "source": [
    "ip = inv.get_fund_historical_data(fund=fundo, country='brazil',from_date='01/01/2020',to_date='01/12/2020')['Close']"
   ]
  },
  {
   "cell_type": "code",
   "execution_count": null,
   "metadata": {},
   "outputs": [],
   "source": [
    "etfs = inv.get_etfs_overview(country='brazil')"
   ]
  },
  {
   "cell_type": "code",
   "execution_count": null,
   "metadata": {},
   "outputs": [],
   "source": [
    "bova11 = inv.get_etf_historical_data('Ishares Ibovespa', country='brazil', from_date='01/01/2020', to_date='01/12/2020')"
   ]
  },
  {
   "cell_type": "markdown",
   "metadata": {},
   "source": [
    "## 2 - Tratando os dados"
   ]
  },
  {
   "cell_type": "code",
   "execution_count": null,
   "metadata": {},
   "outputs": [],
   "source": [
    "comparativo = pd.DataFrame()\n",
    "data_inicio = ip.index[0]\n",
    "\n",
    "comparativo['ip'] = ip/ip.loc[data_inicio]\n",
    "comparativo['alaska'] = alaska/alaska.loc[data_inicio]\n",
    "comparativo['bova11'] = bova11/bova11.loc[data_inicio]"
   ]
  },
  {
   "cell_type": "markdown",
   "metadata": {},
   "source": [
    "## 3 - Visualizando os dados"
   ]
  },
  {
   "cell_type": "code",
   "execution_count": null,
   "metadata": {},
   "outputs": [],
   "source": [
    "comparativo.plot()"
   ]
  }
 ],
 "metadata": {
  "kernelspec": {
   "display_name": "Python 3",
   "language": "python",
   "name": "python3"
  },
  "language_info": {
   "codemirror_mode": {
    "name": "ipython",
    "version": 3
   },
   "file_extension": ".py",
   "mimetype": "text/x-python",
   "name": "python",
   "nbconvert_exporter": "python",
   "pygments_lexer": "ipython3",
   "version": "3.8.10"
  }
 },
 "nbformat": 4,
 "nbformat_minor": 2
}

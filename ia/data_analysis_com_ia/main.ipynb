{
 "cells": [
  {
   "cell_type": "markdown",
   "metadata": {},
   "source": [
    "# Projeto Ciência de dados: Carteira de Ações com IA\n",
    "- Projeto Inspiração: https://medium.com/swlh/teaching-a-machine-to-trade-stocks-like-warren-buffet-part-i-445849b208c6\n",
    "- Resumo Fundamentos Empresas BR: https://fundamentus.com.br/index.php"
   ]
  },
  {
   "cell_type": "markdown",
   "metadata": {},
   "source": [
    "\n",
    "## 1 - Importando bibliotecas"
   ]
  },
  {
   "cell_type": "code",
   "execution_count": 63,
   "metadata": {},
   "outputs": [],
   "source": [
    "import pandas as pd\n",
    "import numpy as np\n",
    "import yfinance as yf\n",
    "import plotly.express as px\n",
    "import matplotlib.pyplot as plt\n",
    "import seaborn as sns\n",
    "import os"
   ]
  },
  {
   "cell_type": "markdown",
   "metadata": {},
   "source": [
    "## 2 - Coletando as empresas"
   ]
  },
  {
   "cell_type": "code",
   "execution_count": 64,
   "metadata": {},
   "outputs": [],
   "source": [
    "def extrair_nome_arquivo(caminho_diretorio, extensao=\".xls\"):\n",
    "    \"\"\"\n",
    "    Lê arquivos com uma extensão específica em um diretório, extrai uma parte do nome\n",
    "    e retorna uma lista de strings com os nomes.\n",
    "\n",
    "    Args:\n",
    "        caminho_diretorio (str): Caminho do diretório onde os arquivos estão.\n",
    "        extensao (str): Extensão dos arquivos a serem processados (padrão: .xls).\n",
    "\n",
    "    Returns:\n",
    "        list: Lista de strings com os nomes extraídos.\n",
    "    \"\"\"\n",
    "    try:\n",
    "        # Verifica se o diretório existe\n",
    "        if not os.path.exists(caminho_diretorio):\n",
    "            print(f\"Diretório '{caminho_diretorio}' não encontrado.\")\n",
    "            return []\n",
    "\n",
    "        # Lista os arquivos com a extensão especificada\n",
    "        arquivos = [f for f in os.listdir(caminho_diretorio) if f.endswith(extensao)]\n",
    "\n",
    "        # Processa os nomes dos arquivos\n",
    "        nomes_extraidos = [arquivo.replace(\"balanco_\", \"\").replace(extensao, \"\") for arquivo in arquivos]\n",
    "\n",
    "        return nomes_extraidos\n",
    "\n",
    "    except Exception as e:\n",
    "        print(f\"Ocorreu um erro: {e}\")\n",
    "        return []"
   ]
  },
  {
   "cell_type": "code",
   "execution_count": 65,
   "metadata": {},
   "outputs": [],
   "source": [
    "empresas = extrair_nome_arquivo('./balancos/')"
   ]
  },
  {
   "cell_type": "code",
   "execution_count": 66,
   "metadata": {},
   "outputs": [],
   "source": [
    "# fundamentos = {\n",
    "#   \"ABEV3\": balanco_dre_abve3,\n",
    "#   \"empresa\": balanco_dre_empresa (DataFrame),\n",
    "#}\n",
    "\n",
    "fundamentos = dict()"
   ]
  },
  {
   "cell_type": "code",
   "execution_count": 67,
   "metadata": {},
   "outputs": [],
   "source": [
    "# cotacoes = {\n",
    "#   \"ABEV3\": cotacoes_abev3,\n",
    "#   \"empresa\": cotacoes_empresa (DataFrame),\n",
    "#}\n",
    "\n",
    "cotacoes = dict()"
   ]
  },
  {
   "cell_type": "markdown",
   "metadata": {},
   "source": [
    "## 3 - Coletando os fundamentos das empresas"
   ]
  },
  {
   "cell_type": "code",
   "execution_count": null,
   "metadata": {},
   "outputs": [],
   "source": [
    "caminho = \"./balancos/\"\n",
    "arquivos = os.listdir(caminho)\n",
    "extensao = \".xls\"\n",
    "\n",
    "for arquivo in arquivos:\n",
    "    nome = arquivo.replace(\"balanco_\", \"\").replace(extensao, \"\")\n",
    "    balanco = pd.read_excel(f\"{caminho}{arquivo}\", sheet_name=0)\n",
    "    # tornar o primeiro valor o nome da empresa\n",
    "    balanco.iloc[0,0] = nome\n",
    "    # tornar a primeira linha o cabeçalho\n",
    "    balanco.columns = balanco.iloc[0]\n",
    "    # pegar todos os valores apartir da linha 1\n",
    "    balanco = balanco[1:]\n",
    "    balanco = balanco.set_index(nome)\n",
    "    dre = pd.read_excel(f\"{caminho}{arquivo}\", sheet_name=1)\n",
    "    # tornar o primeiro valor o nome da empresa\n",
    "    dre.iloc[0,0] = nome\n",
    "    # tornar a primeira linha o cabeçalho\n",
    "    dre.columns = dre.iloc[0]\n",
    "    # pegar todos os valores apartir da linha 1\n",
    "    dre = dre[1:]\n",
    "    dre = dre.set_index(nome)\n",
    "    fundamentos[nome] = pd.concat([balanco,dre])"
   ]
  },
  {
   "cell_type": "code",
   "execution_count": 69,
   "metadata": {},
   "outputs": [],
   "source": [
    "cotacoes_xlsx = pd.read_excel('Cotacoes.xlsx')"
   ]
  },
  {
   "cell_type": "markdown",
   "metadata": {},
   "source": [
    "## 4 - Coletando cotações das empresa"
   ]
  },
  {
   "cell_type": "code",
   "execution_count": 70,
   "metadata": {},
   "outputs": [],
   "source": [
    "for empresa in cotacoes_xlsx['Empresa'].unique():\n",
    "    cotacoes[empresa] = cotacoes_xlsx.loc[cotacoes_xlsx['Empresa']==empresa]"
   ]
  },
  {
   "cell_type": "markdown",
   "metadata": {},
   "source": [
    "## 5 - Tratando os dados"
   ]
  },
  {
   "cell_type": "code",
   "execution_count": 71,
   "metadata": {},
   "outputs": [
    {
     "name": "stdout",
     "output_type": "stream",
     "text": [
      "81\n",
      "77\n",
      "81\n"
     ]
    }
   ],
   "source": [
    "print(len(empresas))\n",
    "print(len(cotacoes))\n",
    "print(len(fundamentos))"
   ]
  },
  {
   "cell_type": "code",
   "execution_count": 72,
   "metadata": {},
   "outputs": [],
   "source": [
    "for empresa in empresas:\n",
    "    if not (empresa in cotacoes):\n",
    "        fundamentos.pop(empresa)\n",
    "    elif cotacoes[empresa].isnull().values.any():\n",
    "        fundamentos.pop(empresa) \n",
    "        cotacoes.pop(empresa)"
   ]
  },
  {
   "cell_type": "code",
   "execution_count": 73,
   "metadata": {},
   "outputs": [
    {
     "name": "stdout",
     "output_type": "stream",
     "text": [
      "81\n",
      "65\n",
      "65\n"
     ]
    }
   ],
   "source": [
    "print(len(empresas))\n",
    "print(len(cotacoes))\n",
    "print(len(fundamentos))"
   ]
  },
  {
   "cell_type": "code",
   "execution_count": 74,
   "metadata": {},
   "outputs": [],
   "source": [
    "for empresa in fundamentos:\n",
    "    # Corrigir as datas para o mesmo formato\n",
    "    tabela = fundamentos[empresa].T\n",
    "    tabela.index = pd.to_datetime(tabela.index, format=\"%d/%m/%Y\")\n",
    "    # Transformar 'Date' em index - cotacoes\n",
    "    tabela_cotacao = cotacoes[empresa].set_index(\"Date\")\n",
    "    tabela_cotacao = tabela_cotacao['Adj Close']\n",
    "\n",
    "    tabela = tabela.merge(tabela_cotacao, right_index=True, left_index=True)\n",
    "    tabela.index.name = empresa\n",
    "\n",
    "    fundamentos[empresa]= tabela"
   ]
  },
  {
   "cell_type": "markdown",
   "metadata": {},
   "source": [
    "### Tratar colunas\n",
    "1. Utilizar empresas que possuem as mesmas colunas\n",
    "2. Ajustar colunas com nomes repetidos\n",
    "3. Analisar valores vazios nas colunas"
   ]
  },
  {
   "cell_type": "markdown",
   "metadata": {},
   "source": [
    "#### 5.1. Remover da análise tabelas que tem colunas diferentes"
   ]
  },
  {
   "cell_type": "code",
   "execution_count": 75,
   "metadata": {},
   "outputs": [
    {
     "name": "stdout",
     "output_type": "stream",
     "text": [
      "65\n",
      "61\n"
     ]
    }
   ],
   "source": [
    "colunas = list(fundamentos['ABEV3'].columns)\n",
    "\n",
    "print(len(fundamentos))\n",
    "\n",
    "for empresa in empresas:\n",
    "    if not empresa in fundamentos:\n",
    "        continue\n",
    "    elif set(colunas) != set(fundamentos[empresa].columns):\n",
    "        fundamentos.pop(empresa)\n",
    "\n",
    "print(len(fundamentos))"
   ]
  },
  {
   "cell_type": "markdown",
   "metadata": {},
   "source": [
    "#### 5.2. Ajustar colunas com nomes repetidos"
   ]
  },
  {
   "cell_type": "code",
   "execution_count": 76,
   "metadata": {},
   "outputs": [
    {
     "name": "stdout",
     "output_type": "stream",
     "text": [
      "['Ativo Total', 'Ativo Circulante', 'Caixa e Equivalentes de Caixa', 'Aplicações Financeiras', 'Contas a Receber', 'Estoques', 'Ativos Biológicos', 'Tributos a Recuperar', 'Despesas Antecipadas', 'Outros Ativos Circulantes', 'Ativo Realizável a Longo Prazo', 'Aplicações Financeiras Avaliadas a Valor Justo', 'Aplicações Financeiras Avaliadas ao Custo Amortizado', 'Contas a Receber', 'Estoques', 'Ativos Biológicos', 'Tributos Diferidos', 'Despesas Antecipadas', 'Créditos com Partes Relacionadas', 'Outros Ativos Não Circulantes', 'Investimentos', 'Imobilizado', 'Intangível', 'Diferido', 'Passivo Total', 'Passivo Circulante', 'Obrigações Sociais e Trabalhistas', 'Fornecedores', 'Obrigações Fiscais', 'Empréstimos e Financiamentos', 'Passivos com Partes Relacionadas', 'Dividendos e JCP a Pagar', 'Outros', 'Provisões', 'Passivos sobre Ativos Não-Correntes a Venda e Descontinuados', 'Passivo Não Circulante', 'Empréstimos e Financiamentos', 'Passivos com Partes Relacionadas', 'Outros', 'Tributos Diferidos', 'Adiantamento para Futuro Aumento Capital', 'Provisões', 'Passivos sobre Ativos Não-Correntes a Venda e Descontinuados', 'Lucros e Receitas a Apropriar', 'Participação dos Acionistas Não Controladores', 'Patrimônio Líquido', 'Capital Social Realizado', 'Reservas de Capital', 'Reservas de Reavaliação', 'Reservas de Lucros', 'Lucros/Prejuízos Acumulados', 'Ajustes de Avaliação Patrimonial', 'Ajustes Acumulados de Conversão', 'Outros Resultados Abrangentes', 'Adiantamento para Futuro Aumento Capital', 'Receita Bruta de Vendas e/ou Serviços', 'Deduções da Receita Bruta', 'Receita Líquida de Vendas e/ou Serviços', 'Custo de Bens e/ou Serviços Vendidos', 'Resultado Bruto', 'Despesas Com Vendas', 'Despesas Gerais e Administrativas', 'Perdas pela Não Recuperabilidade de Ativos\\xa0', 'Outras Receitas Operacionais', 'Outras Despesas Operacionais', 'Resultado da Equivalência Patrimonial', 'Financeiras', 'Receitas Financeiras', 'Despesas Financeiras', 'Resultado Não Operacional', 'Receitas', 'Despesas', 'Resultado Antes Tributação/Participações', 'Provisão para IR e Contribuição Social', 'IR Diferido', 'Participações/Contribuições Estatutárias', 'Reversão dos Juros sobre Capital Próprio', 'Part. de Acionistas Não Controladores', 'Lucro/Prejuízo do Período', 'Adj Close']\n"
     ]
    }
   ],
   "source": [
    "print(colunas)"
   ]
  },
  {
   "cell_type": "code",
   "execution_count": 77,
   "metadata": {},
   "outputs": [],
   "source": [
    "texto_colunas = \";\".join(colunas)\n",
    "\n",
    "colunas_modificadas = []\n",
    "\n",
    "for col in colunas:\n",
    "    if colunas.count(col)==2 and col not in colunas_modificadas:\n",
    "        texto_colunas = texto_colunas.replace(\";\"+col+\";\",\";\"+col+\"_1;\",1)\n",
    "        colunas_modificadas.append(col)\n",
    "\n",
    "colunas = texto_colunas.split(';')"
   ]
  },
  {
   "cell_type": "code",
   "execution_count": 78,
   "metadata": {},
   "outputs": [],
   "source": [
    "for empresa in fundamentos:\n",
    "    fundamentos[empresa].columns = colunas"
   ]
  },
  {
   "cell_type": "markdown",
   "metadata": {},
   "source": [
    "#### 5.3. Analisar valores vazios nas colunas"
   ]
  },
  {
   "cell_type": "code",
   "execution_count": 79,
   "metadata": {},
   "outputs": [],
   "source": [
    "# valores_vazios ={\n",
    "#     \"col0\": x,\n",
    "#     \"col1\": x+n\n",
    "# }\n",
    "valores_vazios = dict.fromkeys(colunas,0)\n",
    "total_linhas = 0\n",
    "\n",
    "\n",
    "for empresa in fundamentos:\n",
    "    tabela = fundamentos[empresa]\n",
    "    total_linhas += tabela.shape[0]\n",
    "    for col in colunas:\n",
    "        #                       quantidade valores vazios    \n",
    "        valores_vazios[col] +=  pd.isnull(tabela[col]).sum()"
   ]
  },
  {
   "cell_type": "code",
   "execution_count": null,
   "metadata": {},
   "outputs": [],
   "source": [
    "remover_colunas = []\n",
    "for col in valores_vazios:\n",
    "    if valores_vazios[col] > 50:\n",
    "        remover_colunas.append(col)\n",
    "\n",
    "for empresa in fundamentos:\n",
    "    fundamentos[empresa] = fundamentos[empresa].drop(remover_colunas, axis=1)\n",
    "    fundamentos[empresa] = fundamentos[empresa].ffill()"
   ]
  },
  {
   "cell_type": "markdown",
   "metadata": {},
   "source": [
    "### 5.4 - Criando os rótulos: Comprar, Não comprar ou Vender?\n",
    "\n",
    "Regras:\n",
    "1. Subiu mais do que o Ibovespa (ou caiu menos) -> Comprar (Valor=2)\n",
    "2. Subiu menos do que o Ibovespa até o Ibovespa (2%); ou caiu mais do que o Ibovespa até Ibovespa -2% -> Não Comprar (Valor =1)\n",
    "3. Subiu menos do que o Ibovespa Ibovespa; ou caiu mais do que o Ibovespa -> Vender (Valor =0)"
   ]
  },
  {
   "cell_type": "code",
   "execution_count": 81,
   "metadata": {},
   "outputs": [
    {
     "name": "stderr",
     "output_type": "stream",
     "text": [
      "[*********************100%***********************]  1 of 1 completed\n"
     ]
    }
   ],
   "source": [
    "dt_inicio = \"2012-12-20\"\n",
    "dt_final = \"2021-12-20\"\n",
    "\n",
    "ibov = yf.download('^BVSP',start=dt_inicio,end=dt_final)"
   ]
  },
  {
   "cell_type": "code",
   "execution_count": null,
   "metadata": {},
   "outputs": [],
   "source": [
    "ibov_close = ibov[['Close']]\n",
    "\n",
    "display(ibov_close)"
   ]
  },
  {
   "cell_type": "code",
   "execution_count": null,
   "metadata": {},
   "outputs": [],
   "source": [
    "datas = fundamentos['ABEV3'].index\n",
    "for dt in datas:\n",
    "    if dt not in ibov_close.index:\n",
    "        ibov_close.loc[dt] = np.nan\n",
    "\n",
    "ibov_close = ibov_close.sort_index()\n",
    "ibov_close = ibov_close.ffill()\n",
    "\n",
    "ibov_close.columns = ['IBOV']"
   ]
  },
  {
   "cell_type": "code",
   "execution_count": 84,
   "metadata": {},
   "outputs": [],
   "source": [
    "for empresa in fundamentos:\n",
    "    fundamentos[empresa] = fundamentos[empresa].merge(ibov_close[['IBOV']], left_index=True, right_index=True)"
   ]
  },
  {
   "cell_type": "code",
   "execution_count": 85,
   "metadata": {},
   "outputs": [],
   "source": [
    "# tornar indicadores em percentuais\n",
    "# fundamento.trimestre % = fundamento tri / fundamento tri - 1\n",
    "# cotacao.trimestre % = cotacao tri + 1 / cotacao tri\n",
    "\n",
    "\n",
    "def select_default(val0, val1):\n",
    "    return val0 / val1\n",
    "\n",
    "\n",
    "for empresa in fundamentos:\n",
    "    fundamento = fundamentos[empresa].sort_index()\n",
    "    for col in fundamento:\n",
    "        if \"Adj Close\" in col or \"IBOV\" in col:\n",
    "            pass\n",
    "        else:\n",
    "            # pegar a cotação anterior\n",
    "            condicoes = [\n",
    "                (fundamento[col].shift(1) > 0) & (fundamento[col] < 0),\n",
    "                (fundamento[col].shift(1) < 0) & (fundamento[col] > 0),\n",
    "                (fundamento[col].shift(1) < 0) & (fundamento[col] < 0),\n",
    "                (fundamento[col].shift(1) == 0) & (fundamento[col] > 0),\n",
    "                (fundamento[col].shift(1) == 0) & (fundamento[col] < 0),\n",
    "                (fundamento[col].shift(1) < 0) & (fundamento[col] == 0),\n",
    "            ]\n",
    "            valores = [\n",
    "                -1,\n",
    "                1,\n",
    "                (abs(fundamento[col].shift(1))) - abs(fundamento[col]),\n",
    "                1,\n",
    "                -1,\n",
    "                1,\n",
    "            ]\n",
    "            fundamento[col] = np.select(\n",
    "                condicoes,\n",
    "                valores,\n",
    "                default=select_default(fundamento[col], fundamento[col].shift(1)),\n",
    "            )\n",
    "        # pegar a cotação seguinte\n",
    "    fundamento[\"Adj Close\"] = fundamento[\"Adj Close\"].shift(-1) / fundamento[\"Adj Close\"] - 1\n",
    "    fundamento[\"IBOV\"] = fundamento[\"IBOV\"].shift(-1) / fundamento[\"IBOV\"] - 1\n",
    "    fundamento[\"Resultado\"] = fundamento[\"Adj Close\"] - fundamento[\"IBOV\"]\n",
    "    condicoes = [\n",
    "        (fundamento[\"Resultado\"] > 0),\n",
    "                (fundamento[\"Resultado\"] < 0) & (fundamento[\"Resultado\"] > -0.02),\n",
    "                (fundamento[\"Resultado\"] < -0.02),\n",
    "            ]\n",
    "\n",
    "    valores = [2, 1, 0]\n",
    "\n",
    "    fundamento[\"Decisao\"] = np.select(condicoes, valores)\n",
    "    fundamentos[empresa] = fundamento"
   ]
  },
  {
   "cell_type": "code",
   "execution_count": 86,
   "metadata": {},
   "outputs": [
    {
     "name": "stdout",
     "output_type": "stream",
     "text": [
      "{'Ativo Total': np.int64(61), 'Ativo Circulante': np.int64(61), 'Caixa e Equivalentes de Caixa': np.int64(61), 'Aplicações Financeiras': np.int64(623), 'Contas a Receber_1': np.int64(65), 'Estoques_1': np.int64(483), 'Ativos Biológicos_1': np.int64(1874), 'Tributos a Recuperar': np.int64(266), 'Despesas Antecipadas_1': np.int64(1059), 'Outros Ativos Circulantes': np.int64(281), 'Ativo Realizável a Longo Prazo': np.int64(61), 'Aplicações Financeiras Avaliadas a Valor Justo': np.int64(1581), 'Aplicações Financeiras Avaliadas ao Custo Amortizado': np.int64(1661), 'Contas a Receber': np.int64(937), 'Estoques': np.int64(1434), 'Ativos Biológicos': np.int64(1823), 'Tributos Diferidos_1': np.int64(822), 'Despesas Antecipadas': np.int64(1130), 'Créditos com Partes Relacionadas': np.int64(1271), 'Outros Ativos Não Circulantes': np.int64(426), 'Investimentos': np.int64(345), 'Imobilizado': np.int64(62), 'Intangível': np.int64(86), 'Diferido': np.int64(2004), 'Passivo Total': np.int64(61), 'Passivo Circulante': np.int64(61), 'Obrigações Sociais e Trabalhistas': np.int64(390), 'Fornecedores': np.int64(153), 'Obrigações Fiscais': np.int64(102), 'Empréstimos e Financiamentos_1': np.int64(85), 'Passivos com Partes Relacionadas_1': np.int64(1476), 'Dividendos e JCP a Pagar': np.int64(763), 'Outros_1': np.int64(113), 'Provisões_1': np.int64(1081), 'Passivos sobre Ativos Não-Correntes a Venda e Descontinuados_1': np.int64(1817), 'Passivo Não Circulante': np.int64(61), 'Empréstimos e Financiamentos': np.int64(86), 'Passivos com Partes Relacionadas': np.int64(1627), 'Outros': np.int64(207), 'Tributos Diferidos': np.int64(376), 'Adiantamento para Futuro Aumento Capital_1': np.int64(2004), 'Provisões': np.int64(153), 'Passivos sobre Ativos Não-Correntes a Venda e Descontinuados': np.int64(1995), 'Lucros e Receitas a Apropriar': np.int64(1799), 'Participação dos Acionistas Não Controladores': np.int64(612), 'Patrimônio Líquido': np.int64(61), 'Capital Social Realizado': np.int64(61), 'Reservas de Capital': np.int64(193), 'Reservas de Reavaliação': np.int64(1776), 'Reservas de Lucros': np.int64(239), 'Lucros/Prejuízos Acumulados': np.int64(184), 'Ajustes de Avaliação Patrimonial': np.int64(1042), 'Ajustes Acumulados de Conversão': np.int64(1749), 'Outros Resultados Abrangentes': np.int64(1312), 'Adiantamento para Futuro Aumento Capital': np.int64(2004), 'Receita Líquida de Vendas e/ou Serviços': np.int64(92), 'Custo de Bens e/ou Serviços Vendidos': np.int64(119), 'Resultado Bruto': np.int64(92), 'Despesas Com Vendas': np.int64(509), 'Despesas Gerais e Administrativas': np.int64(61), 'Perdas pela Não Recuperabilidade de Ativos\\xa0': np.int64(1760), 'Outras Receitas Operacionais': np.int64(668), 'Outras Despesas Operacionais': np.int64(380), 'Resultado da Equivalência Patrimonial': np.int64(563), 'Financeiras': np.int64(61), 'Receitas Financeiras': np.int64(144), 'Despesas Financeiras': np.int64(143), 'Resultado Antes Tributação/Participações': np.int64(61), 'Provisão para IR e Contribuição Social': np.int64(197), 'IR Diferido': np.int64(191), 'Lucro/Prejuízo do Período': np.int64(61), 'Adj Close': np.int64(61), 'IBOV': np.int64(61), 'Resultado': np.int64(61), 'Decisao': np.int64(0)}\n",
      "2004\n"
     ]
    }
   ],
   "source": [
    "# remover valores vazios\n",
    "colunas = list(fundamentos['ABEV3'].columns)\n",
    "valores_vazios = dict.fromkeys(colunas,0)\n",
    "total_linhas = 0\n",
    "\n",
    "\n",
    "for empresa in fundamentos:\n",
    "    tabela = fundamentos[empresa]\n",
    "    total_linhas += tabela.shape[0]\n",
    "    for col in colunas:\n",
    "        #                       quantidade valores vazios    \n",
    "        valores_vazios[col] +=  pd.isnull(tabela[col]).sum()\n",
    "\n",
    "print(valores_vazios)\n",
    "print(total_linhas)"
   ]
  },
  {
   "cell_type": "code",
   "execution_count": 87,
   "metadata": {},
   "outputs": [],
   "source": [
    "remover_colunas = []\n",
    "for col in valores_vazios:\n",
    "    if valores_vazios[col] > (total_linhas/3):\n",
    "        remover_colunas.append(col)\n",
    "\n",
    "for empresa in fundamentos:\n",
    "    fundamentos[empresa] = fundamentos[empresa].drop(remover_colunas, axis=1)\n",
    "    fundamentos[empresa] = fundamentos[empresa].fillna(0)"
   ]
  },
  {
   "cell_type": "code",
   "execution_count": 88,
   "metadata": {},
   "outputs": [],
   "source": [
    "for empresa in fundamentos:\n",
    "    fundamentos[empresa] = fundamentos[empresa].drop([\"Adj Close\", \"IBOV\", \"Resultado\"],axis=1)"
   ]
  },
  {
   "cell_type": "code",
   "execution_count": 89,
   "metadata": {},
   "outputs": [],
   "source": [
    "copia_fundamentos = fundamentos.copy()"
   ]
  },
  {
   "cell_type": "code",
   "execution_count": 90,
   "metadata": {},
   "outputs": [],
   "source": [
    "base_dados = pd.DataFrame()\n",
    "for empresa in copia_fundamentos:\n",
    "    copia_fundamentos[empresa] = copia_fundamentos[empresa][1:-1]\n",
    "    copia_fundamentos[empresa] = copia_fundamentos[empresa].reset_index(drop=True)\n",
    "    base_dados = pd.concat([base_dados, copia_fundamentos[empresa]])"
   ]
  },
  {
   "cell_type": "code",
   "execution_count": null,
   "metadata": {},
   "outputs": [],
   "source": [
    "display(base_dados)"
   ]
  },
  {
   "cell_type": "markdown",
   "metadata": {},
   "source": [
    "### 6. Análise Exploratória"
   ]
  },
  {
   "cell_type": "markdown",
   "metadata": {},
   "source": [
    "#### 6.1. Quantidade de Respostas em cada Tipo de Decisão"
   ]
  },
  {
   "cell_type": "code",
   "execution_count": 92,
   "metadata": {},
   "outputs": [
    {
     "data": {
      "text/plain": [
       "Decisao\n",
       "2    50.0%\n",
       "0    43.7%\n",
       "1     6.3%\n",
       "Name: proportion, dtype: object"
      ]
     },
     "metadata": {},
     "output_type": "display_data"
    }
   ],
   "source": [
    "#display(base_dados['Decisao'].value_counts())\n",
    "display(base_dados['Decisao'].value_counts(normalize=True).map(\"{:.1%}\".format))"
   ]
  },
  {
   "cell_type": "code",
   "execution_count": 93,
   "metadata": {},
   "outputs": [
    {
     "data": {
      "application/vnd.plotly.v1+json": {
       "config": {
        "plotlyServerURL": "https://plot.ly"
       },
       "data": [
        {
         "alignmentgroup": "True",
         "bingroup": "x",
         "hovertemplate": "Decisao=%{x}<br>count=%{y}<extra></extra>",
         "legendgroup": "2",
         "marker": {
          "color": "#636efa",
          "pattern": {
           "shape": ""
          }
         },
         "name": "2",
         "offsetgroup": "2",
         "orientation": "v",
         "showlegend": true,
         "type": "histogram",
         "x": [
          2,
          2,
          2,
          2,
          2,
          2,
          2,
          2,
          2,
          2,
          2,
          2,
          2,
          2,
          2,
          2,
          2,
          2,
          2,
          2,
          2,
          2,
          2,
          2,
          2,
          2,
          2,
          2,
          2,
          2,
          2,
          2,
          2,
          2,
          2,
          2,
          2,
          2,
          2,
          2,
          2,
          2,
          2,
          2,
          2,
          2,
          2,
          2,
          2,
          2,
          2,
          2,
          2,
          2,
          2,
          2,
          2,
          2,
          2,
          2,
          2,
          2,
          2,
          2,
          2,
          2,
          2,
          2,
          2,
          2,
          2,
          2,
          2,
          2,
          2,
          2,
          2,
          2,
          2,
          2,
          2,
          2,
          2,
          2,
          2,
          2,
          2,
          2,
          2,
          2,
          2,
          2,
          2,
          2,
          2,
          2,
          2,
          2,
          2,
          2,
          2,
          2,
          2,
          2,
          2,
          2,
          2,
          2,
          2,
          2,
          2,
          2,
          2,
          2,
          2,
          2,
          2,
          2,
          2,
          2,
          2,
          2,
          2,
          2,
          2,
          2,
          2,
          2,
          2,
          2,
          2,
          2,
          2,
          2,
          2,
          2,
          2,
          2,
          2,
          2,
          2,
          2,
          2,
          2,
          2,
          2,
          2,
          2,
          2,
          2,
          2,
          2,
          2,
          2,
          2,
          2,
          2,
          2,
          2,
          2,
          2,
          2,
          2,
          2,
          2,
          2,
          2,
          2,
          2,
          2,
          2,
          2,
          2,
          2,
          2,
          2,
          2,
          2,
          2,
          2,
          2,
          2,
          2,
          2,
          2,
          2,
          2,
          2,
          2,
          2,
          2,
          2,
          2,
          2,
          2,
          2,
          2,
          2,
          2,
          2,
          2,
          2,
          2,
          2,
          2,
          2,
          2,
          2,
          2,
          2,
          2,
          2,
          2,
          2,
          2,
          2,
          2,
          2,
          2,
          2,
          2,
          2,
          2,
          2,
          2,
          2,
          2,
          2,
          2,
          2,
          2,
          2,
          2,
          2,
          2,
          2,
          2,
          2,
          2,
          2,
          2,
          2,
          2,
          2,
          2,
          2,
          2,
          2,
          2,
          2,
          2,
          2,
          2,
          2,
          2,
          2,
          2,
          2,
          2,
          2,
          2,
          2,
          2,
          2,
          2,
          2,
          2,
          2,
          2,
          2,
          2,
          2,
          2,
          2,
          2,
          2,
          2,
          2,
          2,
          2,
          2,
          2,
          2,
          2,
          2,
          2,
          2,
          2,
          2,
          2,
          2,
          2,
          2,
          2,
          2,
          2,
          2,
          2,
          2,
          2,
          2,
          2,
          2,
          2,
          2,
          2,
          2,
          2,
          2,
          2,
          2,
          2,
          2,
          2,
          2,
          2,
          2,
          2,
          2,
          2,
          2,
          2,
          2,
          2,
          2,
          2,
          2,
          2,
          2,
          2,
          2,
          2,
          2,
          2,
          2,
          2,
          2,
          2,
          2,
          2,
          2,
          2,
          2,
          2,
          2,
          2,
          2,
          2,
          2,
          2,
          2,
          2,
          2,
          2,
          2,
          2,
          2,
          2,
          2,
          2,
          2,
          2,
          2,
          2,
          2,
          2,
          2,
          2,
          2,
          2,
          2,
          2,
          2,
          2,
          2,
          2,
          2,
          2,
          2,
          2,
          2,
          2,
          2,
          2,
          2,
          2,
          2,
          2,
          2,
          2,
          2,
          2,
          2,
          2,
          2,
          2,
          2,
          2,
          2,
          2,
          2,
          2,
          2,
          2,
          2,
          2,
          2,
          2,
          2,
          2,
          2,
          2,
          2,
          2,
          2,
          2,
          2,
          2,
          2,
          2,
          2,
          2,
          2,
          2,
          2,
          2,
          2,
          2,
          2,
          2,
          2,
          2,
          2,
          2,
          2,
          2,
          2,
          2,
          2,
          2,
          2,
          2,
          2,
          2,
          2,
          2,
          2,
          2,
          2,
          2,
          2,
          2,
          2,
          2,
          2,
          2,
          2,
          2,
          2,
          2,
          2,
          2,
          2,
          2,
          2,
          2,
          2,
          2,
          2,
          2,
          2,
          2,
          2,
          2,
          2,
          2,
          2,
          2,
          2,
          2,
          2,
          2,
          2,
          2,
          2,
          2,
          2,
          2,
          2,
          2,
          2,
          2,
          2,
          2,
          2,
          2,
          2,
          2,
          2,
          2,
          2,
          2,
          2,
          2,
          2,
          2,
          2,
          2,
          2,
          2,
          2,
          2,
          2,
          2,
          2,
          2,
          2,
          2,
          2,
          2,
          2,
          2,
          2,
          2,
          2,
          2,
          2,
          2,
          2,
          2,
          2,
          2,
          2,
          2,
          2,
          2,
          2,
          2,
          2,
          2,
          2,
          2,
          2,
          2,
          2,
          2,
          2,
          2,
          2,
          2,
          2,
          2,
          2,
          2,
          2,
          2,
          2,
          2,
          2,
          2,
          2,
          2,
          2,
          2,
          2,
          2,
          2,
          2,
          2,
          2,
          2,
          2,
          2,
          2,
          2,
          2,
          2,
          2,
          2,
          2,
          2,
          2,
          2,
          2,
          2,
          2,
          2,
          2,
          2,
          2,
          2,
          2,
          2,
          2,
          2,
          2,
          2,
          2,
          2,
          2,
          2,
          2,
          2,
          2,
          2,
          2,
          2,
          2,
          2,
          2,
          2,
          2,
          2,
          2,
          2,
          2,
          2,
          2,
          2,
          2,
          2,
          2,
          2,
          2,
          2,
          2,
          2,
          2,
          2,
          2,
          2,
          2,
          2,
          2,
          2,
          2,
          2,
          2,
          2,
          2,
          2,
          2,
          2,
          2,
          2,
          2,
          2,
          2,
          2,
          2,
          2,
          2,
          2,
          2,
          2,
          2,
          2,
          2,
          2,
          2,
          2,
          2,
          2,
          2,
          2,
          2,
          2,
          2,
          2,
          2,
          2,
          2,
          2,
          2,
          2,
          2,
          2,
          2,
          2,
          2,
          2,
          2,
          2,
          2,
          2,
          2,
          2,
          2,
          2,
          2,
          2,
          2,
          2,
          2,
          2,
          2,
          2,
          2,
          2,
          2,
          2,
          2,
          2,
          2,
          2,
          2,
          2,
          2,
          2,
          2,
          2,
          2,
          2,
          2,
          2,
          2,
          2,
          2,
          2,
          2,
          2,
          2,
          2,
          2,
          2,
          2,
          2,
          2,
          2,
          2,
          2,
          2,
          2,
          2,
          2,
          2,
          2,
          2,
          2,
          2,
          2,
          2,
          2,
          2,
          2,
          2,
          2,
          2,
          2,
          2,
          2,
          2,
          2,
          2,
          2,
          2,
          2,
          2,
          2,
          2,
          2,
          2,
          2,
          2,
          2,
          2,
          2,
          2,
          2,
          2,
          2,
          2,
          2,
          2,
          2,
          2,
          2,
          2,
          2,
          2,
          2,
          2,
          2,
          2,
          2,
          2,
          2,
          2,
          2,
          2,
          2,
          2,
          2,
          2,
          2,
          2,
          2,
          2,
          2,
          2,
          2,
          2,
          2,
          2,
          2,
          2,
          2,
          2,
          2,
          2,
          2,
          2,
          2,
          2,
          2,
          2,
          2,
          2,
          2,
          2,
          2,
          2,
          2,
          2,
          2,
          2,
          2,
          2,
          2,
          2,
          2,
          2,
          2,
          2,
          2,
          2,
          2,
          2,
          2,
          2,
          2,
          2,
          2,
          2,
          2,
          2,
          2,
          2,
          2,
          2,
          2,
          2,
          2,
          2,
          2,
          2,
          2,
          2,
          2,
          2,
          2,
          2,
          2,
          2,
          2,
          2,
          2,
          2,
          2,
          2,
          2,
          2,
          2,
          2,
          2,
          2,
          2,
          2,
          2,
          2,
          2,
          2,
          2,
          2,
          2,
          2,
          2,
          2,
          2,
          2,
          2,
          2,
          2,
          2,
          2,
          2,
          2,
          2,
          2,
          2,
          2,
          2,
          2,
          2,
          2,
          2,
          2,
          2,
          2,
          2,
          2,
          2,
          2,
          2,
          2,
          2,
          2,
          2,
          2,
          2,
          2,
          2,
          2,
          2,
          2,
          2,
          2,
          2,
          2,
          2,
          2,
          2,
          2,
          2,
          2,
          2,
          2,
          2,
          2,
          2,
          2
         ],
         "xaxis": "x",
         "yaxis": "y"
        },
        {
         "alignmentgroup": "True",
         "bingroup": "x",
         "hovertemplate": "Decisao=%{x}<br>count=%{y}<extra></extra>",
         "legendgroup": "0",
         "marker": {
          "color": "#EF553B",
          "pattern": {
           "shape": ""
          }
         },
         "name": "0",
         "offsetgroup": "0",
         "orientation": "v",
         "showlegend": true,
         "type": "histogram",
         "x": [
          0,
          0,
          0,
          0,
          0,
          0,
          0,
          0,
          0,
          0,
          0,
          0,
          0,
          0,
          0,
          0,
          0,
          0,
          0,
          0,
          0,
          0,
          0,
          0,
          0,
          0,
          0,
          0,
          0,
          0,
          0,
          0,
          0,
          0,
          0,
          0,
          0,
          0,
          0,
          0,
          0,
          0,
          0,
          0,
          0,
          0,
          0,
          0,
          0,
          0,
          0,
          0,
          0,
          0,
          0,
          0,
          0,
          0,
          0,
          0,
          0,
          0,
          0,
          0,
          0,
          0,
          0,
          0,
          0,
          0,
          0,
          0,
          0,
          0,
          0,
          0,
          0,
          0,
          0,
          0,
          0,
          0,
          0,
          0,
          0,
          0,
          0,
          0,
          0,
          0,
          0,
          0,
          0,
          0,
          0,
          0,
          0,
          0,
          0,
          0,
          0,
          0,
          0,
          0,
          0,
          0,
          0,
          0,
          0,
          0,
          0,
          0,
          0,
          0,
          0,
          0,
          0,
          0,
          0,
          0,
          0,
          0,
          0,
          0,
          0,
          0,
          0,
          0,
          0,
          0,
          0,
          0,
          0,
          0,
          0,
          0,
          0,
          0,
          0,
          0,
          0,
          0,
          0,
          0,
          0,
          0,
          0,
          0,
          0,
          0,
          0,
          0,
          0,
          0,
          0,
          0,
          0,
          0,
          0,
          0,
          0,
          0,
          0,
          0,
          0,
          0,
          0,
          0,
          0,
          0,
          0,
          0,
          0,
          0,
          0,
          0,
          0,
          0,
          0,
          0,
          0,
          0,
          0,
          0,
          0,
          0,
          0,
          0,
          0,
          0,
          0,
          0,
          0,
          0,
          0,
          0,
          0,
          0,
          0,
          0,
          0,
          0,
          0,
          0,
          0,
          0,
          0,
          0,
          0,
          0,
          0,
          0,
          0,
          0,
          0,
          0,
          0,
          0,
          0,
          0,
          0,
          0,
          0,
          0,
          0,
          0,
          0,
          0,
          0,
          0,
          0,
          0,
          0,
          0,
          0,
          0,
          0,
          0,
          0,
          0,
          0,
          0,
          0,
          0,
          0,
          0,
          0,
          0,
          0,
          0,
          0,
          0,
          0,
          0,
          0,
          0,
          0,
          0,
          0,
          0,
          0,
          0,
          0,
          0,
          0,
          0,
          0,
          0,
          0,
          0,
          0,
          0,
          0,
          0,
          0,
          0,
          0,
          0,
          0,
          0,
          0,
          0,
          0,
          0,
          0,
          0,
          0,
          0,
          0,
          0,
          0,
          0,
          0,
          0,
          0,
          0,
          0,
          0,
          0,
          0,
          0,
          0,
          0,
          0,
          0,
          0,
          0,
          0,
          0,
          0,
          0,
          0,
          0,
          0,
          0,
          0,
          0,
          0,
          0,
          0,
          0,
          0,
          0,
          0,
          0,
          0,
          0,
          0,
          0,
          0,
          0,
          0,
          0,
          0,
          0,
          0,
          0,
          0,
          0,
          0,
          0,
          0,
          0,
          0,
          0,
          0,
          0,
          0,
          0,
          0,
          0,
          0,
          0,
          0,
          0,
          0,
          0,
          0,
          0,
          0,
          0,
          0,
          0,
          0,
          0,
          0,
          0,
          0,
          0,
          0,
          0,
          0,
          0,
          0,
          0,
          0,
          0,
          0,
          0,
          0,
          0,
          0,
          0,
          0,
          0,
          0,
          0,
          0,
          0,
          0,
          0,
          0,
          0,
          0,
          0,
          0,
          0,
          0,
          0,
          0,
          0,
          0,
          0,
          0,
          0,
          0,
          0,
          0,
          0,
          0,
          0,
          0,
          0,
          0,
          0,
          0,
          0,
          0,
          0,
          0,
          0,
          0,
          0,
          0,
          0,
          0,
          0,
          0,
          0,
          0,
          0,
          0,
          0,
          0,
          0,
          0,
          0,
          0,
          0,
          0,
          0,
          0,
          0,
          0,
          0,
          0,
          0,
          0,
          0,
          0,
          0,
          0,
          0,
          0,
          0,
          0,
          0,
          0,
          0,
          0,
          0,
          0,
          0,
          0,
          0,
          0,
          0,
          0,
          0,
          0,
          0,
          0,
          0,
          0,
          0,
          0,
          0,
          0,
          0,
          0,
          0,
          0,
          0,
          0,
          0,
          0,
          0,
          0,
          0,
          0,
          0,
          0,
          0,
          0,
          0,
          0,
          0,
          0,
          0,
          0,
          0,
          0,
          0,
          0,
          0,
          0,
          0,
          0,
          0,
          0,
          0,
          0,
          0,
          0,
          0,
          0,
          0,
          0,
          0,
          0,
          0,
          0,
          0,
          0,
          0,
          0,
          0,
          0,
          0,
          0,
          0,
          0,
          0,
          0,
          0,
          0,
          0,
          0,
          0,
          0,
          0,
          0,
          0,
          0,
          0,
          0,
          0,
          0,
          0,
          0,
          0,
          0,
          0,
          0,
          0,
          0,
          0,
          0,
          0,
          0,
          0,
          0,
          0,
          0,
          0,
          0,
          0,
          0,
          0,
          0,
          0,
          0,
          0,
          0,
          0,
          0,
          0,
          0,
          0,
          0,
          0,
          0,
          0,
          0,
          0,
          0,
          0,
          0,
          0,
          0,
          0,
          0,
          0,
          0,
          0,
          0,
          0,
          0,
          0,
          0,
          0,
          0,
          0,
          0,
          0,
          0,
          0,
          0,
          0,
          0,
          0,
          0,
          0,
          0,
          0,
          0,
          0,
          0,
          0,
          0,
          0,
          0,
          0,
          0,
          0,
          0,
          0,
          0,
          0,
          0,
          0,
          0,
          0,
          0,
          0,
          0,
          0,
          0,
          0,
          0,
          0,
          0,
          0,
          0,
          0,
          0,
          0,
          0,
          0,
          0,
          0,
          0,
          0,
          0,
          0,
          0,
          0,
          0,
          0,
          0,
          0,
          0,
          0,
          0,
          0,
          0,
          0,
          0,
          0,
          0,
          0,
          0,
          0,
          0,
          0,
          0,
          0,
          0,
          0,
          0,
          0,
          0,
          0,
          0,
          0,
          0,
          0,
          0,
          0,
          0,
          0,
          0,
          0,
          0,
          0,
          0,
          0,
          0,
          0,
          0,
          0,
          0,
          0,
          0,
          0,
          0,
          0,
          0,
          0,
          0,
          0,
          0,
          0,
          0,
          0,
          0,
          0,
          0,
          0,
          0,
          0,
          0,
          0,
          0,
          0,
          0,
          0,
          0,
          0,
          0,
          0,
          0,
          0,
          0,
          0,
          0,
          0,
          0,
          0,
          0,
          0,
          0,
          0,
          0,
          0,
          0,
          0,
          0,
          0,
          0,
          0,
          0,
          0,
          0,
          0,
          0,
          0,
          0,
          0,
          0,
          0,
          0,
          0,
          0,
          0,
          0,
          0,
          0,
          0,
          0,
          0,
          0,
          0,
          0,
          0,
          0,
          0,
          0,
          0,
          0,
          0,
          0,
          0,
          0,
          0,
          0,
          0,
          0,
          0,
          0,
          0,
          0,
          0,
          0,
          0,
          0,
          0,
          0,
          0,
          0,
          0,
          0,
          0,
          0,
          0,
          0,
          0,
          0,
          0,
          0,
          0,
          0,
          0,
          0,
          0,
          0,
          0,
          0,
          0,
          0,
          0,
          0,
          0
         ],
         "xaxis": "x",
         "yaxis": "y"
        },
        {
         "alignmentgroup": "True",
         "bingroup": "x",
         "hovertemplate": "Decisao=%{x}<br>count=%{y}<extra></extra>",
         "legendgroup": "1",
         "marker": {
          "color": "#00cc96",
          "pattern": {
           "shape": ""
          }
         },
         "name": "1",
         "offsetgroup": "1",
         "orientation": "v",
         "showlegend": true,
         "type": "histogram",
         "x": [
          1,
          1,
          1,
          1,
          1,
          1,
          1,
          1,
          1,
          1,
          1,
          1,
          1,
          1,
          1,
          1,
          1,
          1,
          1,
          1,
          1,
          1,
          1,
          1,
          1,
          1,
          1,
          1,
          1,
          1,
          1,
          1,
          1,
          1,
          1,
          1,
          1,
          1,
          1,
          1,
          1,
          1,
          1,
          1,
          1,
          1,
          1,
          1,
          1,
          1,
          1,
          1,
          1,
          1,
          1,
          1,
          1,
          1,
          1,
          1,
          1,
          1,
          1,
          1,
          1,
          1,
          1,
          1,
          1,
          1,
          1,
          1,
          1,
          1,
          1,
          1,
          1,
          1,
          1,
          1,
          1,
          1,
          1,
          1,
          1,
          1,
          1,
          1,
          1,
          1,
          1,
          1,
          1,
          1,
          1,
          1,
          1,
          1,
          1,
          1,
          1,
          1,
          1,
          1,
          1,
          1,
          1,
          1,
          1,
          1,
          1,
          1,
          1,
          1,
          1,
          1,
          1,
          1
         ],
         "xaxis": "x",
         "yaxis": "y"
        }
       ],
       "layout": {
        "barmode": "relative",
        "legend": {
         "title": {
          "text": "Decisao"
         },
         "tracegroupgap": 0
        },
        "margin": {
         "t": 60
        },
        "template": {
         "data": {
          "bar": [
           {
            "error_x": {
             "color": "#2a3f5f"
            },
            "error_y": {
             "color": "#2a3f5f"
            },
            "marker": {
             "line": {
              "color": "#E5ECF6",
              "width": 0.5
             },
             "pattern": {
              "fillmode": "overlay",
              "size": 10,
              "solidity": 0.2
             }
            },
            "type": "bar"
           }
          ],
          "barpolar": [
           {
            "marker": {
             "line": {
              "color": "#E5ECF6",
              "width": 0.5
             },
             "pattern": {
              "fillmode": "overlay",
              "size": 10,
              "solidity": 0.2
             }
            },
            "type": "barpolar"
           }
          ],
          "carpet": [
           {
            "aaxis": {
             "endlinecolor": "#2a3f5f",
             "gridcolor": "white",
             "linecolor": "white",
             "minorgridcolor": "white",
             "startlinecolor": "#2a3f5f"
            },
            "baxis": {
             "endlinecolor": "#2a3f5f",
             "gridcolor": "white",
             "linecolor": "white",
             "minorgridcolor": "white",
             "startlinecolor": "#2a3f5f"
            },
            "type": "carpet"
           }
          ],
          "choropleth": [
           {
            "colorbar": {
             "outlinewidth": 0,
             "ticks": ""
            },
            "type": "choropleth"
           }
          ],
          "contour": [
           {
            "colorbar": {
             "outlinewidth": 0,
             "ticks": ""
            },
            "colorscale": [
             [
              0,
              "#0d0887"
             ],
             [
              0.1111111111111111,
              "#46039f"
             ],
             [
              0.2222222222222222,
              "#7201a8"
             ],
             [
              0.3333333333333333,
              "#9c179e"
             ],
             [
              0.4444444444444444,
              "#bd3786"
             ],
             [
              0.5555555555555556,
              "#d8576b"
             ],
             [
              0.6666666666666666,
              "#ed7953"
             ],
             [
              0.7777777777777778,
              "#fb9f3a"
             ],
             [
              0.8888888888888888,
              "#fdca26"
             ],
             [
              1,
              "#f0f921"
             ]
            ],
            "type": "contour"
           }
          ],
          "contourcarpet": [
           {
            "colorbar": {
             "outlinewidth": 0,
             "ticks": ""
            },
            "type": "contourcarpet"
           }
          ],
          "heatmap": [
           {
            "colorbar": {
             "outlinewidth": 0,
             "ticks": ""
            },
            "colorscale": [
             [
              0,
              "#0d0887"
             ],
             [
              0.1111111111111111,
              "#46039f"
             ],
             [
              0.2222222222222222,
              "#7201a8"
             ],
             [
              0.3333333333333333,
              "#9c179e"
             ],
             [
              0.4444444444444444,
              "#bd3786"
             ],
             [
              0.5555555555555556,
              "#d8576b"
             ],
             [
              0.6666666666666666,
              "#ed7953"
             ],
             [
              0.7777777777777778,
              "#fb9f3a"
             ],
             [
              0.8888888888888888,
              "#fdca26"
             ],
             [
              1,
              "#f0f921"
             ]
            ],
            "type": "heatmap"
           }
          ],
          "heatmapgl": [
           {
            "colorbar": {
             "outlinewidth": 0,
             "ticks": ""
            },
            "colorscale": [
             [
              0,
              "#0d0887"
             ],
             [
              0.1111111111111111,
              "#46039f"
             ],
             [
              0.2222222222222222,
              "#7201a8"
             ],
             [
              0.3333333333333333,
              "#9c179e"
             ],
             [
              0.4444444444444444,
              "#bd3786"
             ],
             [
              0.5555555555555556,
              "#d8576b"
             ],
             [
              0.6666666666666666,
              "#ed7953"
             ],
             [
              0.7777777777777778,
              "#fb9f3a"
             ],
             [
              0.8888888888888888,
              "#fdca26"
             ],
             [
              1,
              "#f0f921"
             ]
            ],
            "type": "heatmapgl"
           }
          ],
          "histogram": [
           {
            "marker": {
             "pattern": {
              "fillmode": "overlay",
              "size": 10,
              "solidity": 0.2
             }
            },
            "type": "histogram"
           }
          ],
          "histogram2d": [
           {
            "colorbar": {
             "outlinewidth": 0,
             "ticks": ""
            },
            "colorscale": [
             [
              0,
              "#0d0887"
             ],
             [
              0.1111111111111111,
              "#46039f"
             ],
             [
              0.2222222222222222,
              "#7201a8"
             ],
             [
              0.3333333333333333,
              "#9c179e"
             ],
             [
              0.4444444444444444,
              "#bd3786"
             ],
             [
              0.5555555555555556,
              "#d8576b"
             ],
             [
              0.6666666666666666,
              "#ed7953"
             ],
             [
              0.7777777777777778,
              "#fb9f3a"
             ],
             [
              0.8888888888888888,
              "#fdca26"
             ],
             [
              1,
              "#f0f921"
             ]
            ],
            "type": "histogram2d"
           }
          ],
          "histogram2dcontour": [
           {
            "colorbar": {
             "outlinewidth": 0,
             "ticks": ""
            },
            "colorscale": [
             [
              0,
              "#0d0887"
             ],
             [
              0.1111111111111111,
              "#46039f"
             ],
             [
              0.2222222222222222,
              "#7201a8"
             ],
             [
              0.3333333333333333,
              "#9c179e"
             ],
             [
              0.4444444444444444,
              "#bd3786"
             ],
             [
              0.5555555555555556,
              "#d8576b"
             ],
             [
              0.6666666666666666,
              "#ed7953"
             ],
             [
              0.7777777777777778,
              "#fb9f3a"
             ],
             [
              0.8888888888888888,
              "#fdca26"
             ],
             [
              1,
              "#f0f921"
             ]
            ],
            "type": "histogram2dcontour"
           }
          ],
          "mesh3d": [
           {
            "colorbar": {
             "outlinewidth": 0,
             "ticks": ""
            },
            "type": "mesh3d"
           }
          ],
          "parcoords": [
           {
            "line": {
             "colorbar": {
              "outlinewidth": 0,
              "ticks": ""
             }
            },
            "type": "parcoords"
           }
          ],
          "pie": [
           {
            "automargin": true,
            "type": "pie"
           }
          ],
          "scatter": [
           {
            "fillpattern": {
             "fillmode": "overlay",
             "size": 10,
             "solidity": 0.2
            },
            "type": "scatter"
           }
          ],
          "scatter3d": [
           {
            "line": {
             "colorbar": {
              "outlinewidth": 0,
              "ticks": ""
             }
            },
            "marker": {
             "colorbar": {
              "outlinewidth": 0,
              "ticks": ""
             }
            },
            "type": "scatter3d"
           }
          ],
          "scattercarpet": [
           {
            "marker": {
             "colorbar": {
              "outlinewidth": 0,
              "ticks": ""
             }
            },
            "type": "scattercarpet"
           }
          ],
          "scattergeo": [
           {
            "marker": {
             "colorbar": {
              "outlinewidth": 0,
              "ticks": ""
             }
            },
            "type": "scattergeo"
           }
          ],
          "scattergl": [
           {
            "marker": {
             "colorbar": {
              "outlinewidth": 0,
              "ticks": ""
             }
            },
            "type": "scattergl"
           }
          ],
          "scattermapbox": [
           {
            "marker": {
             "colorbar": {
              "outlinewidth": 0,
              "ticks": ""
             }
            },
            "type": "scattermapbox"
           }
          ],
          "scatterpolar": [
           {
            "marker": {
             "colorbar": {
              "outlinewidth": 0,
              "ticks": ""
             }
            },
            "type": "scatterpolar"
           }
          ],
          "scatterpolargl": [
           {
            "marker": {
             "colorbar": {
              "outlinewidth": 0,
              "ticks": ""
             }
            },
            "type": "scatterpolargl"
           }
          ],
          "scatterternary": [
           {
            "marker": {
             "colorbar": {
              "outlinewidth": 0,
              "ticks": ""
             }
            },
            "type": "scatterternary"
           }
          ],
          "surface": [
           {
            "colorbar": {
             "outlinewidth": 0,
             "ticks": ""
            },
            "colorscale": [
             [
              0,
              "#0d0887"
             ],
             [
              0.1111111111111111,
              "#46039f"
             ],
             [
              0.2222222222222222,
              "#7201a8"
             ],
             [
              0.3333333333333333,
              "#9c179e"
             ],
             [
              0.4444444444444444,
              "#bd3786"
             ],
             [
              0.5555555555555556,
              "#d8576b"
             ],
             [
              0.6666666666666666,
              "#ed7953"
             ],
             [
              0.7777777777777778,
              "#fb9f3a"
             ],
             [
              0.8888888888888888,
              "#fdca26"
             ],
             [
              1,
              "#f0f921"
             ]
            ],
            "type": "surface"
           }
          ],
          "table": [
           {
            "cells": {
             "fill": {
              "color": "#EBF0F8"
             },
             "line": {
              "color": "white"
             }
            },
            "header": {
             "fill": {
              "color": "#C8D4E3"
             },
             "line": {
              "color": "white"
             }
            },
            "type": "table"
           }
          ]
         },
         "layout": {
          "annotationdefaults": {
           "arrowcolor": "#2a3f5f",
           "arrowhead": 0,
           "arrowwidth": 1
          },
          "autotypenumbers": "strict",
          "coloraxis": {
           "colorbar": {
            "outlinewidth": 0,
            "ticks": ""
           }
          },
          "colorscale": {
           "diverging": [
            [
             0,
             "#8e0152"
            ],
            [
             0.1,
             "#c51b7d"
            ],
            [
             0.2,
             "#de77ae"
            ],
            [
             0.3,
             "#f1b6da"
            ],
            [
             0.4,
             "#fde0ef"
            ],
            [
             0.5,
             "#f7f7f7"
            ],
            [
             0.6,
             "#e6f5d0"
            ],
            [
             0.7,
             "#b8e186"
            ],
            [
             0.8,
             "#7fbc41"
            ],
            [
             0.9,
             "#4d9221"
            ],
            [
             1,
             "#276419"
            ]
           ],
           "sequential": [
            [
             0,
             "#0d0887"
            ],
            [
             0.1111111111111111,
             "#46039f"
            ],
            [
             0.2222222222222222,
             "#7201a8"
            ],
            [
             0.3333333333333333,
             "#9c179e"
            ],
            [
             0.4444444444444444,
             "#bd3786"
            ],
            [
             0.5555555555555556,
             "#d8576b"
            ],
            [
             0.6666666666666666,
             "#ed7953"
            ],
            [
             0.7777777777777778,
             "#fb9f3a"
            ],
            [
             0.8888888888888888,
             "#fdca26"
            ],
            [
             1,
             "#f0f921"
            ]
           ],
           "sequentialminus": [
            [
             0,
             "#0d0887"
            ],
            [
             0.1111111111111111,
             "#46039f"
            ],
            [
             0.2222222222222222,
             "#7201a8"
            ],
            [
             0.3333333333333333,
             "#9c179e"
            ],
            [
             0.4444444444444444,
             "#bd3786"
            ],
            [
             0.5555555555555556,
             "#d8576b"
            ],
            [
             0.6666666666666666,
             "#ed7953"
            ],
            [
             0.7777777777777778,
             "#fb9f3a"
            ],
            [
             0.8888888888888888,
             "#fdca26"
            ],
            [
             1,
             "#f0f921"
            ]
           ]
          },
          "colorway": [
           "#636efa",
           "#EF553B",
           "#00cc96",
           "#ab63fa",
           "#FFA15A",
           "#19d3f3",
           "#FF6692",
           "#B6E880",
           "#FF97FF",
           "#FECB52"
          ],
          "font": {
           "color": "#2a3f5f"
          },
          "geo": {
           "bgcolor": "white",
           "lakecolor": "white",
           "landcolor": "#E5ECF6",
           "showlakes": true,
           "showland": true,
           "subunitcolor": "white"
          },
          "hoverlabel": {
           "align": "left"
          },
          "hovermode": "closest",
          "mapbox": {
           "style": "light"
          },
          "paper_bgcolor": "white",
          "plot_bgcolor": "#E5ECF6",
          "polar": {
           "angularaxis": {
            "gridcolor": "white",
            "linecolor": "white",
            "ticks": ""
           },
           "bgcolor": "#E5ECF6",
           "radialaxis": {
            "gridcolor": "white",
            "linecolor": "white",
            "ticks": ""
           }
          },
          "scene": {
           "xaxis": {
            "backgroundcolor": "#E5ECF6",
            "gridcolor": "white",
            "gridwidth": 2,
            "linecolor": "white",
            "showbackground": true,
            "ticks": "",
            "zerolinecolor": "white"
           },
           "yaxis": {
            "backgroundcolor": "#E5ECF6",
            "gridcolor": "white",
            "gridwidth": 2,
            "linecolor": "white",
            "showbackground": true,
            "ticks": "",
            "zerolinecolor": "white"
           },
           "zaxis": {
            "backgroundcolor": "#E5ECF6",
            "gridcolor": "white",
            "gridwidth": 2,
            "linecolor": "white",
            "showbackground": true,
            "ticks": "",
            "zerolinecolor": "white"
           }
          },
          "shapedefaults": {
           "line": {
            "color": "#2a3f5f"
           }
          },
          "ternary": {
           "aaxis": {
            "gridcolor": "white",
            "linecolor": "white",
            "ticks": ""
           },
           "baxis": {
            "gridcolor": "white",
            "linecolor": "white",
            "ticks": ""
           },
           "bgcolor": "#E5ECF6",
           "caxis": {
            "gridcolor": "white",
            "linecolor": "white",
            "ticks": ""
           }
          },
          "title": {
           "x": 0.05
          },
          "xaxis": {
           "automargin": true,
           "gridcolor": "white",
           "linecolor": "white",
           "ticks": "",
           "title": {
            "standoff": 15
           },
           "zerolinecolor": "white",
           "zerolinewidth": 2
          },
          "yaxis": {
           "automargin": true,
           "gridcolor": "white",
           "linecolor": "white",
           "ticks": "",
           "title": {
            "standoff": 15
           },
           "zerolinecolor": "white",
           "zerolinewidth": 2
          }
         }
        },
        "xaxis": {
         "anchor": "y",
         "categoryarray": [
          2,
          0,
          1
         ],
         "categoryorder": "array",
         "domain": [
          0,
          1
         ],
         "title": {
          "text": "Decisao"
         }
        },
        "yaxis": {
         "anchor": "x",
         "domain": [
          0,
          1
         ],
         "title": {
          "text": "count"
         }
        }
       }
      }
     },
     "metadata": {},
     "output_type": "display_data"
    }
   ],
   "source": [
    "fig = px.histogram(base_dados, x=\"Decisao\", color=\"Decisao\")\n",
    "fig.show()"
   ]
  },
  {
   "cell_type": "code",
   "execution_count": 94,
   "metadata": {},
   "outputs": [],
   "source": [
    "# tirar a categoria 1 e transformar em 0\n",
    "base_dados.loc[base_dados[\"Decisao\"]==1, \"Decisao\"] = 0"
   ]
  },
  {
   "cell_type": "code",
   "execution_count": 95,
   "metadata": {},
   "outputs": [
    {
     "data": {
      "text/plain": [
       "Decisao\n",
       "2    50.0%\n",
       "0    50.0%\n",
       "Name: proportion, dtype: object"
      ]
     },
     "metadata": {},
     "output_type": "display_data"
    }
   ],
   "source": [
    "display(base_dados['Decisao'].value_counts(normalize=True).map(\"{:.1%}\".format))"
   ]
  },
  {
   "cell_type": "markdown",
   "metadata": {},
   "source": [
    "#### 6.2. Correlação"
   ]
  },
  {
   "cell_type": "code",
   "execution_count": 96,
   "metadata": {},
   "outputs": [
    {
     "data": {
      "image/png": "[encoded data removed]",
      "text/plain": [
       "<Figure size 1800x1000 with 2 Axes>"
      ]
     },
     "metadata": {},
     "output_type": "display_data"
    }
   ],
   "source": [
    "# remover colunas que são a mesma a informação \n",
    "correlacoes = base_dados.corr()\n",
    "\n",
    "fig, ax = plt.subplots(figsize=(18,10))\n",
    "sns.heatmap(correlacoes, cmap=\"Wistia\", ax=ax)\n",
    "plt.show()"
   ]
  },
  {
   "cell_type": "markdown",
   "metadata": {},
   "source": [
    "#### Vamos remover TODAS as Colunas \"já explicadas\" pelo Ativo Total"
   ]
  },
  {
   "cell_type": "code",
   "execution_count": 97,
   "metadata": {},
   "outputs": [],
   "source": [
    "correlacoes_encontradas = []\n",
    "correlacoes_str = str()\n",
    "for col in correlacoes:\n",
    "    for row in correlacoes.index:\n",
    "        if row != col:\n",
    "            valor = abs(correlacoes.loc[row,col])\n",
    "            if valor > 0.8 and (col, row, valor) not in correlacoes_encontradas:\n",
    "                correlacoes_encontradas.append((row,col,valor))\n",
    "                #print(f\"Correlação Encontrada: {row} {col} {valor}\")\n",
    "                if col == \"Ativo Total\":\n",
    "                    correlacoes_str += f\"{row};\"\n"
   ]
  },
  {
   "cell_type": "code",
   "execution_count": 98,
   "metadata": {},
   "outputs": [],
   "source": [
    "#print(correlacoes_str)\n",
    "\n",
    "remover = correlacoes_str.split(\";\")\n",
    "remover = remover[:-1]\n",
    "\n",
    "#print(remover)"
   ]
  },
  {
   "cell_type": "code",
   "execution_count": 99,
   "metadata": {},
   "outputs": [],
   "source": [
    "base_dados = base_dados.drop(remover,axis=1)"
   ]
  },
  {
   "cell_type": "markdown",
   "metadata": {},
   "source": [
    "### 7. Feature Selection"
   ]
  },
  {
   "cell_type": "code",
   "execution_count": 100,
   "metadata": {},
   "outputs": [],
   "source": [
    "from sklearn.ensemble import ExtraTreesClassifier"
   ]
  },
  {
   "cell_type": "code",
   "execution_count": 101,
   "metadata": {},
   "outputs": [],
   "source": [
    "modelo = ExtraTreesClassifier(random_state=1)\n",
    "\n",
    "X = base_dados.drop(\"Decisao\", axis=1)\n",
    "y = base_dados[\"Decisao\"]\n",
    "\n",
    "modelo.fit(X,y)\n",
    "\n",
    "caracteristicas_importantes= pd.DataFrame(modelo.feature_importances_, X.columns).sort_values(by=0, ascending=False)"
   ]
  },
  {
   "cell_type": "code",
   "execution_count": 102,
   "metadata": {},
   "outputs": [
    {
     "data": {
      "text/html": [
       "<div>\n",
       "<style scoped>\n",
       "    .dataframe tbody tr th:only-of-type {\n",
       "        vertical-align: middle;\n",
       "    }\n",
       "\n",
       "    .dataframe tbody tr th {\n",
       "        vertical-align: top;\n",
       "    }\n",
       "\n",
       "    .dataframe thead th {\n",
       "        text-align: right;\n",
       "    }\n",
       "</style>\n",
       "<table border=\"1\" class=\"dataframe\">\n",
       "  <thead>\n",
       "    <tr style=\"text-align: right;\">\n",
       "      <th></th>\n",
       "      <th>0</th>\n",
       "    </tr>\n",
       "  </thead>\n",
       "  <tbody>\n",
       "    <tr>\n",
       "      <th>Ativo Total</th>\n",
       "      <td>0.030934</td>\n",
       "    </tr>\n",
       "    <tr>\n",
       "      <th>Obrigações Fiscais</th>\n",
       "      <td>0.030533</td>\n",
       "    </tr>\n",
       "    <tr>\n",
       "      <th>Fornecedores</th>\n",
       "      <td>0.029732</td>\n",
       "    </tr>\n",
       "    <tr>\n",
       "      <th>Outros Ativos Circulantes</th>\n",
       "      <td>0.028373</td>\n",
       "    </tr>\n",
       "    <tr>\n",
       "      <th>Custo de Bens e/ou Serviços Vendidos</th>\n",
       "      <td>0.028206</td>\n",
       "    </tr>\n",
       "    <tr>\n",
       "      <th>Outros Ativos Não Circulantes</th>\n",
       "      <td>0.028041</td>\n",
       "    </tr>\n",
       "    <tr>\n",
       "      <th>Provisão para IR e Contribuição Social</th>\n",
       "      <td>0.027995</td>\n",
       "    </tr>\n",
       "    <tr>\n",
       "      <th>Tributos Diferidos</th>\n",
       "      <td>0.027246</td>\n",
       "    </tr>\n",
       "    <tr>\n",
       "      <th>Provisões</th>\n",
       "      <td>0.026965</td>\n",
       "    </tr>\n",
       "    <tr>\n",
       "      <th>Investimentos</th>\n",
       "      <td>0.026712</td>\n",
       "    </tr>\n",
       "    <tr>\n",
       "      <th>Empréstimos e Financiamentos_1</th>\n",
       "      <td>0.026530</td>\n",
       "    </tr>\n",
       "    <tr>\n",
       "      <th>Outros_1</th>\n",
       "      <td>0.026403</td>\n",
       "    </tr>\n",
       "    <tr>\n",
       "      <th>Ativo Realizável a Longo Prazo</th>\n",
       "      <td>0.025932</td>\n",
       "    </tr>\n",
       "    <tr>\n",
       "      <th>Imobilizado</th>\n",
       "      <td>0.025915</td>\n",
       "    </tr>\n",
       "    <tr>\n",
       "      <th>Outros</th>\n",
       "      <td>0.025889</td>\n",
       "    </tr>\n",
       "    <tr>\n",
       "      <th>Receitas Financeiras</th>\n",
       "      <td>0.025766</td>\n",
       "    </tr>\n",
       "    <tr>\n",
       "      <th>Passivo Não Circulante</th>\n",
       "      <td>0.025689</td>\n",
       "    </tr>\n",
       "    <tr>\n",
       "      <th>Despesas Financeiras</th>\n",
       "      <td>0.025563</td>\n",
       "    </tr>\n",
       "    <tr>\n",
       "      <th>Caixa e Equivalentes de Caixa</th>\n",
       "      <td>0.025548</td>\n",
       "    </tr>\n",
       "    <tr>\n",
       "      <th>Outras Despesas Operacionais</th>\n",
       "      <td>0.025525</td>\n",
       "    </tr>\n",
       "    <tr>\n",
       "      <th>Empréstimos e Financiamentos</th>\n",
       "      <td>0.025486</td>\n",
       "    </tr>\n",
       "    <tr>\n",
       "      <th>Resultado Bruto</th>\n",
       "      <td>0.025459</td>\n",
       "    </tr>\n",
       "    <tr>\n",
       "      <th>Obrigações Sociais e Trabalhistas</th>\n",
       "      <td>0.025414</td>\n",
       "    </tr>\n",
       "    <tr>\n",
       "      <th>Estoques_1</th>\n",
       "      <td>0.025106</td>\n",
       "    </tr>\n",
       "    <tr>\n",
       "      <th>Patrimônio Líquido</th>\n",
       "      <td>0.025034</td>\n",
       "    </tr>\n",
       "    <tr>\n",
       "      <th>Financeiras</th>\n",
       "      <td>0.024956</td>\n",
       "    </tr>\n",
       "    <tr>\n",
       "      <th>Reservas de Lucros</th>\n",
       "      <td>0.024923</td>\n",
       "    </tr>\n",
       "    <tr>\n",
       "      <th>Aplicações Financeiras</th>\n",
       "      <td>0.024873</td>\n",
       "    </tr>\n",
       "    <tr>\n",
       "      <th>Despesas Gerais e Administrativas</th>\n",
       "      <td>0.024869</td>\n",
       "    </tr>\n",
       "    <tr>\n",
       "      <th>Reservas de Capital</th>\n",
       "      <td>0.024792</td>\n",
       "    </tr>\n",
       "    <tr>\n",
       "      <th>IR Diferido</th>\n",
       "      <td>0.024616</td>\n",
       "    </tr>\n",
       "    <tr>\n",
       "      <th>Despesas Com Vendas</th>\n",
       "      <td>0.024580</td>\n",
       "    </tr>\n",
       "    <tr>\n",
       "      <th>Intangível</th>\n",
       "      <td>0.023878</td>\n",
       "    </tr>\n",
       "    <tr>\n",
       "      <th>Resultado da Equivalência Patrimonial</th>\n",
       "      <td>0.023603</td>\n",
       "    </tr>\n",
       "    <tr>\n",
       "      <th>Lucros/Prejuízos Acumulados</th>\n",
       "      <td>0.022850</td>\n",
       "    </tr>\n",
       "    <tr>\n",
       "      <th>Participação dos Acionistas Não Controladores</th>\n",
       "      <td>0.022264</td>\n",
       "    </tr>\n",
       "    <tr>\n",
       "      <th>Resultado Antes Tributação/Participações</th>\n",
       "      <td>0.021787</td>\n",
       "    </tr>\n",
       "    <tr>\n",
       "      <th>Lucro/Prejuízo do Período</th>\n",
       "      <td>0.021150</td>\n",
       "    </tr>\n",
       "    <tr>\n",
       "      <th>Outras Receitas Operacionais</th>\n",
       "      <td>0.020863</td>\n",
       "    </tr>\n",
       "  </tbody>\n",
       "</table>\n",
       "</div>"
      ],
      "text/plain": [
       "                                                      0\n",
       "Ativo Total                                    0.030934\n",
       "Obrigações Fiscais                             0.030533\n",
       "Fornecedores                                   0.029732\n",
       "Outros Ativos Circulantes                      0.028373\n",
       "Custo de Bens e/ou Serviços Vendidos           0.028206\n",
       "Outros Ativos Não Circulantes                  0.028041\n",
       "Provisão para IR e Contribuição Social         0.027995\n",
       "Tributos Diferidos                             0.027246\n",
       "Provisões                                      0.026965\n",
       "Investimentos                                  0.026712\n",
       "Empréstimos e Financiamentos_1                 0.026530\n",
       "Outros_1                                       0.026403\n",
       "Ativo Realizável a Longo Prazo                 0.025932\n",
       "Imobilizado                                    0.025915\n",
       "Outros                                         0.025889\n",
       "Receitas Financeiras                           0.025766\n",
       "Passivo Não Circulante                         0.025689\n",
       "Despesas Financeiras                           0.025563\n",
       "Caixa e Equivalentes de Caixa                  0.025548\n",
       "Outras Despesas Operacionais                   0.025525\n",
       "Empréstimos e Financiamentos                   0.025486\n",
       "Resultado Bruto                                0.025459\n",
       "Obrigações Sociais e Trabalhistas              0.025414\n",
       "Estoques_1                                     0.025106\n",
       "Patrimônio Líquido                             0.025034\n",
       "Financeiras                                    0.024956\n",
       "Reservas de Lucros                             0.024923\n",
       "Aplicações Financeiras                         0.024873\n",
       "Despesas Gerais e Administrativas              0.024869\n",
       "Reservas de Capital                            0.024792\n",
       "IR Diferido                                    0.024616\n",
       "Despesas Com Vendas                            0.024580\n",
       "Intangível                                     0.023878\n",
       "Resultado da Equivalência Patrimonial          0.023603\n",
       "Lucros/Prejuízos Acumulados                    0.022850\n",
       "Participação dos Acionistas Não Controladores  0.022264\n",
       "Resultado Antes Tributação/Participações       0.021787\n",
       "Lucro/Prejuízo do Período                      0.021150\n",
       "Outras Receitas Operacionais                   0.020863"
      ]
     },
     "metadata": {},
     "output_type": "display_data"
    }
   ],
   "source": [
    "display(caracteristicas_importantes)"
   ]
  },
  {
   "cell_type": "code",
   "execution_count": 103,
   "metadata": {},
   "outputs": [],
   "source": [
    "top10 = list(caracteristicas_importantes.index)[:10]"
   ]
  },
  {
   "cell_type": "code",
   "execution_count": 104,
   "metadata": {},
   "outputs": [
    {
     "name": "stdout",
     "output_type": "stream",
     "text": [
      "['Ativo Total', 'Obrigações Fiscais', 'Fornecedores', 'Outros Ativos Circulantes', 'Custo de Bens e/ou Serviços Vendidos', 'Outros Ativos Não Circulantes', 'Provisão para IR e Contribuição Social', 'Tributos Diferidos', 'Provisões', 'Investimentos']\n"
     ]
    }
   ],
   "source": [
    "print(top10)"
   ]
  },
  {
   "cell_type": "markdown",
   "metadata": {},
   "source": [
    "#### 7.1. Aplicação do StandardScaler para melhorar o modelo"
   ]
  },
  {
   "cell_type": "code",
   "execution_count": 105,
   "metadata": {},
   "outputs": [],
   "source": [
    "from sklearn.preprocessing import StandardScaler\n",
    "\n",
    "def ajustar_scaler(tabela_original):\n",
    "    scaler = StandardScaler()\n",
    "    #remover target prediction\n",
    "    tabela_auxiliar = tabela_original.drop(\"Decisao\",axis=1)\n",
    "    tabela_auxiliar = pd.DataFrame(scaler.fit_transform(tabela_auxiliar),tabela_auxiliar.index, tabela_auxiliar.columns)\n",
    "\n",
    "    tabela_auxiliar[\"Decisao\"] = tabela_original[\"Decisao\"]\n",
    "    return tabela_auxiliar"
   ]
  },
  {
   "cell_type": "code",
   "execution_count": 106,
   "metadata": {},
   "outputs": [],
   "source": [
    "nova_base_dados = ajustar_scaler(base_dados)\n",
    "\n",
    "top10.append(\"Decisao\")\n",
    "\n",
    "nova_base_dados = nova_base_dados[top10].reset_index(drop=True)"
   ]
  },
  {
   "cell_type": "code",
   "execution_count": 107,
   "metadata": {},
   "outputs": [
    {
     "data": {
      "text/html": [
       "<div>\n",
       "<style scoped>\n",
       "    .dataframe tbody tr th:only-of-type {\n",
       "        vertical-align: middle;\n",
       "    }\n",
       "\n",
       "    .dataframe tbody tr th {\n",
       "        vertical-align: top;\n",
       "    }\n",
       "\n",
       "    .dataframe thead th {\n",
       "        text-align: right;\n",
       "    }\n",
       "</style>\n",
       "<table border=\"1\" class=\"dataframe\">\n",
       "  <thead>\n",
       "    <tr style=\"text-align: right;\">\n",
       "      <th></th>\n",
       "      <th>Ativo Total</th>\n",
       "      <th>Obrigações Fiscais</th>\n",
       "      <th>Fornecedores</th>\n",
       "      <th>Outros Ativos Circulantes</th>\n",
       "      <th>Custo de Bens e/ou Serviços Vendidos</th>\n",
       "      <th>Outros Ativos Não Circulantes</th>\n",
       "      <th>Provisão para IR e Contribuição Social</th>\n",
       "      <th>Tributos Diferidos</th>\n",
       "      <th>Provisões</th>\n",
       "      <th>Investimentos</th>\n",
       "      <th>Decisao</th>\n",
       "    </tr>\n",
       "  </thead>\n",
       "  <tbody>\n",
       "    <tr>\n",
       "      <th>0</th>\n",
       "      <td>-0.057290</td>\n",
       "      <td>-0.169845</td>\n",
       "      <td>-2.031650</td>\n",
       "      <td>-0.039535</td>\n",
       "      <td>0.050195</td>\n",
       "      <td>-0.071487</td>\n",
       "      <td>0.012364</td>\n",
       "      <td>0.028984</td>\n",
       "      <td>-0.297612</td>\n",
       "      <td>-0.026645</td>\n",
       "      <td>2</td>\n",
       "    </tr>\n",
       "    <tr>\n",
       "      <th>1</th>\n",
       "      <td>43.017444</td>\n",
       "      <td>-0.051947</td>\n",
       "      <td>-0.015211</td>\n",
       "      <td>-0.033323</td>\n",
       "      <td>0.050194</td>\n",
       "      <td>-0.027007</td>\n",
       "      <td>-1.562438</td>\n",
       "      <td>2.243398</td>\n",
       "      <td>-0.028001</td>\n",
       "      <td>-0.025059</td>\n",
       "      <td>0</td>\n",
       "    </tr>\n",
       "    <tr>\n",
       "      <th>2</th>\n",
       "      <td>-0.037799</td>\n",
       "      <td>-0.053824</td>\n",
       "      <td>0.239634</td>\n",
       "      <td>-0.032176</td>\n",
       "      <td>-0.143791</td>\n",
       "      <td>-0.023451</td>\n",
       "      <td>0.663422</td>\n",
       "      <td>0.087820</td>\n",
       "      <td>-0.031687</td>\n",
       "      <td>-0.024815</td>\n",
       "      <td>2</td>\n",
       "    </tr>\n",
       "    <tr>\n",
       "      <th>3</th>\n",
       "      <td>0.099897</td>\n",
       "      <td>-0.005402</td>\n",
       "      <td>0.856982</td>\n",
       "      <td>-0.032090</td>\n",
       "      <td>-2.843946</td>\n",
       "      <td>-0.023414</td>\n",
       "      <td>-1.337703</td>\n",
       "      <td>0.274441</td>\n",
       "      <td>-0.040182</td>\n",
       "      <td>-0.024637</td>\n",
       "      <td>2</td>\n",
       "    </tr>\n",
       "    <tr>\n",
       "      <th>4</th>\n",
       "      <td>-0.131611</td>\n",
       "      <td>-0.056927</td>\n",
       "      <td>-0.294343</td>\n",
       "      <td>-0.031913</td>\n",
       "      <td>2.782447</td>\n",
       "      <td>-0.028744</td>\n",
       "      <td>-0.097866</td>\n",
       "      <td>-0.085599</td>\n",
       "      <td>-0.026669</td>\n",
       "      <td>-0.023510</td>\n",
       "      <td>0</td>\n",
       "    </tr>\n",
       "    <tr>\n",
       "      <th>...</th>\n",
       "      <td>...</td>\n",
       "      <td>...</td>\n",
       "      <td>...</td>\n",
       "      <td>...</td>\n",
       "      <td>...</td>\n",
       "      <td>...</td>\n",
       "      <td>...</td>\n",
       "      <td>...</td>\n",
       "      <td>...</td>\n",
       "      <td>...</td>\n",
       "      <td>...</td>\n",
       "    </tr>\n",
       "    <tr>\n",
       "      <th>1877</th>\n",
       "      <td>-0.021035</td>\n",
       "      <td>-0.044456</td>\n",
       "      <td>0.293393</td>\n",
       "      <td>-0.033421</td>\n",
       "      <td>0.076757</td>\n",
       "      <td>-0.071487</td>\n",
       "      <td>0.012362</td>\n",
       "      <td>-0.093419</td>\n",
       "      <td>-0.053945</td>\n",
       "      <td>-0.025038</td>\n",
       "      <td>2</td>\n",
       "    </tr>\n",
       "    <tr>\n",
       "      <th>1878</th>\n",
       "      <td>-0.092771</td>\n",
       "      <td>-0.045182</td>\n",
       "      <td>-0.216244</td>\n",
       "      <td>-0.031244</td>\n",
       "      <td>0.027859</td>\n",
       "      <td>-0.071487</td>\n",
       "      <td>0.012367</td>\n",
       "      <td>0.033804</td>\n",
       "      <td>-0.046557</td>\n",
       "      <td>-0.024324</td>\n",
       "      <td>0</td>\n",
       "    </tr>\n",
       "    <tr>\n",
       "      <th>1879</th>\n",
       "      <td>0.334543</td>\n",
       "      <td>0.024732</td>\n",
       "      <td>0.675961</td>\n",
       "      <td>-0.031557</td>\n",
       "      <td>0.091670</td>\n",
       "      <td>-0.071487</td>\n",
       "      <td>0.012362</td>\n",
       "      <td>-0.103987</td>\n",
       "      <td>-0.026140</td>\n",
       "      <td>-0.025059</td>\n",
       "      <td>2</td>\n",
       "    </tr>\n",
       "    <tr>\n",
       "      <th>1880</th>\n",
       "      <td>0.165594</td>\n",
       "      <td>0.018988</td>\n",
       "      <td>0.659085</td>\n",
       "      <td>-0.031390</td>\n",
       "      <td>-0.038548</td>\n",
       "      <td>-0.071487</td>\n",
       "      <td>0.019155</td>\n",
       "      <td>0.645241</td>\n",
       "      <td>0.141015</td>\n",
       "      <td>-0.025059</td>\n",
       "      <td>0</td>\n",
       "    </tr>\n",
       "    <tr>\n",
       "      <th>1881</th>\n",
       "      <td>-0.040233</td>\n",
       "      <td>-0.055506</td>\n",
       "      <td>-0.074318</td>\n",
       "      <td>-0.032617</td>\n",
       "      <td>0.059365</td>\n",
       "      <td>-0.071487</td>\n",
       "      <td>0.081025</td>\n",
       "      <td>0.023878</td>\n",
       "      <td>-0.025169</td>\n",
       "      <td>-0.025059</td>\n",
       "      <td>0</td>\n",
       "    </tr>\n",
       "  </tbody>\n",
       "</table>\n",
       "<p>1882 rows × 11 columns</p>\n",
       "</div>"
      ],
      "text/plain": [
       "      Ativo Total  Obrigações Fiscais  Fornecedores  \\\n",
       "0       -0.057290           -0.169845     -2.031650   \n",
       "1       43.017444           -0.051947     -0.015211   \n",
       "2       -0.037799           -0.053824      0.239634   \n",
       "3        0.099897           -0.005402      0.856982   \n",
       "4       -0.131611           -0.056927     -0.294343   \n",
       "...           ...                 ...           ...   \n",
       "1877    -0.021035           -0.044456      0.293393   \n",
       "1878    -0.092771           -0.045182     -0.216244   \n",
       "1879     0.334543            0.024732      0.675961   \n",
       "1880     0.165594            0.018988      0.659085   \n",
       "1881    -0.040233           -0.055506     -0.074318   \n",
       "\n",
       "      Outros Ativos Circulantes  Custo de Bens e/ou Serviços Vendidos  \\\n",
       "0                     -0.039535                              0.050195   \n",
       "1                     -0.033323                              0.050194   \n",
       "2                     -0.032176                             -0.143791   \n",
       "3                     -0.032090                             -2.843946   \n",
       "4                     -0.031913                              2.782447   \n",
       "...                         ...                                   ...   \n",
       "1877                  -0.033421                              0.076757   \n",
       "1878                  -0.031244                              0.027859   \n",
       "1879                  -0.031557                              0.091670   \n",
       "1880                  -0.031390                             -0.038548   \n",
       "1881                  -0.032617                              0.059365   \n",
       "\n",
       "      Outros Ativos Não Circulantes  Provisão para IR e Contribuição Social  \\\n",
       "0                         -0.071487                                0.012364   \n",
       "1                         -0.027007                               -1.562438   \n",
       "2                         -0.023451                                0.663422   \n",
       "3                         -0.023414                               -1.337703   \n",
       "4                         -0.028744                               -0.097866   \n",
       "...                             ...                                     ...   \n",
       "1877                      -0.071487                                0.012362   \n",
       "1878                      -0.071487                                0.012367   \n",
       "1879                      -0.071487                                0.012362   \n",
       "1880                      -0.071487                                0.019155   \n",
       "1881                      -0.071487                                0.081025   \n",
       "\n",
       "      Tributos Diferidos  Provisões  Investimentos  Decisao  \n",
       "0               0.028984  -0.297612      -0.026645        2  \n",
       "1               2.243398  -0.028001      -0.025059        0  \n",
       "2               0.087820  -0.031687      -0.024815        2  \n",
       "3               0.274441  -0.040182      -0.024637        2  \n",
       "4              -0.085599  -0.026669      -0.023510        0  \n",
       "...                  ...        ...            ...      ...  \n",
       "1877           -0.093419  -0.053945      -0.025038        2  \n",
       "1878            0.033804  -0.046557      -0.024324        0  \n",
       "1879           -0.103987  -0.026140      -0.025059        2  \n",
       "1880            0.645241   0.141015      -0.025059        0  \n",
       "1881            0.023878  -0.025169      -0.025059        0  \n",
       "\n",
       "[1882 rows x 11 columns]"
      ]
     },
     "metadata": {},
     "output_type": "display_data"
    }
   ],
   "source": [
    "display(nova_base_dados)"
   ]
  },
  {
   "cell_type": "markdown",
   "metadata": {},
   "source": [
    "#### 7.2 Separação dos dados em treino e teste"
   ]
  },
  {
   "cell_type": "code",
   "execution_count": 108,
   "metadata": {},
   "outputs": [],
   "source": [
    "from sklearn.model_selection import train_test_split"
   ]
  },
  {
   "cell_type": "code",
   "execution_count": 109,
   "metadata": {},
   "outputs": [],
   "source": [
    "X = nova_base_dados.drop(\"Decisao\",axis=1)\n",
    "y = nova_base_dados[\"Decisao\"]\n",
    "\n",
    "X_train, X_val, y_train, y_val = train_test_split(X,y, random_state=1, test_size=0.8)"
   ]
  },
  {
   "cell_type": "markdown",
   "metadata": {},
   "source": [
    "#### 8 - Criar comparativo e avaliação"
   ]
  },
  {
   "cell_type": "markdown",
   "metadata": {},
   "source": [
    "#### Criação de um Dummy Classifier (Uma baseline para ver se o modleos são melhores do que puro chute)"
   ]
  },
  {
   "cell_type": "code",
   "execution_count": 110,
   "metadata": {},
   "outputs": [],
   "source": [
    "from sklearn.dummy import DummyClassifier\n",
    "from sklearn.metrics import classification_report, confusion_matrix\n",
    "\n",
    "dummy = DummyClassifier(strategy=\"stratified\", random_state=1)"
   ]
  },
  {
   "cell_type": "code",
   "execution_count": 111,
   "metadata": {},
   "outputs": [],
   "source": [
    "dummy.fit(X_train,y_train)\n",
    "previsao_dummy = dummy.predict(X_val)"
   ]
  },
  {
   "cell_type": "markdown",
   "metadata": {},
   "source": [
    "#### Métricas de Avaliação\n",
    "- Precisão vai ser nossa métrica principal\n",
    "- Recall pode ser útil, mas precisão no caso de ações é mais importante"
   ]
  },
  {
   "cell_type": "code",
   "execution_count": 112,
   "metadata": {},
   "outputs": [],
   "source": [
    "def avaliar(y_val, previsao, modelo):\n",
    "    print(modelo)\n",
    "    report = classification_report(y_val, previsao)\n",
    "    cf_matrix = pd.DataFrame(\n",
    "        confusion_matrix(y_val, previsao),\n",
    "        index=[\"Vender\", \"Comprar\"],\n",
    "        columns=[\"Vender\", \"Comprar\"],\n",
    "    )\n",
    "    sns.heatmap(cf_matrix, annot=True, cmap=\"Blues\", fmt=\",\")\n",
    "    print(report)\n",
    "    plt.show()\n",
    "    print(\"#\" * 50)\n"
   ]
  },
  {
   "cell_type": "code",
   "execution_count": 113,
   "metadata": {},
   "outputs": [
    {
     "name": "stdout",
     "output_type": "stream",
     "text": [
      "Dummy\n",
      "              precision    recall  f1-score   support\n",
      "\n",
      "           0       0.52      0.53      0.52       749\n",
      "           2       0.53      0.52      0.52       757\n",
      "\n",
      "    accuracy                           0.52      1506\n",
      "   macro avg       0.52      0.52      0.52      1506\n",
      "weighted avg       0.52      0.52      0.52      1506\n",
      "\n"
     ]
    },
    {
     "data": {
      "image/png": "[encoded data removed]",
      "text/plain": [
       "<Figure size 640x480 with 2 Axes>"
      ]
     },
     "metadata": {},
     "output_type": "display_data"
    },
    {
     "name": "stdout",
     "output_type": "stream",
     "text": [
      "##################################################\n"
     ]
    }
   ],
   "source": [
    "avaliar(y_val,previsao_dummy,\"Dummy\")"
   ]
  },
  {
   "cell_type": "markdown",
   "metadata": {},
   "source": [
    "#### 9 - Treinar modelos de ai"
   ]
  },
  {
   "cell_type": "markdown",
   "metadata": {},
   "source": [
    "#### Modelos para testar\n",
    "- AdaBoost\n",
    "- Decision Tree\n",
    "- Random Forest\n",
    "- ExtraTree\n",
    "- Gradient Boost\n",
    "- K Nearest Neighbors (KNN)\n",
    "- Logistic Regression\n",
    "- Naive Bayes\n",
    "- Support Vector Machnie (SVM)\n",
    "- Rede Neural"
   ]
  },
  {
   "cell_type": "code",
   "execution_count": 114,
   "metadata": {},
   "outputs": [],
   "source": [
    "from sklearn.ensemble import AdaBoostClassifier, GradientBoostingClassifier, RandomForestClassifier, ExtraTreesClassifier\n",
    "from sklearn.tree import DecisionTreeClassifier\n",
    "from sklearn.neighbors import KNeighborsClassifier\n",
    "from sklearn.linear_model import LogisticRegression\n",
    "from sklearn.naive_bayes import GaussianNB\n",
    "from sklearn.svm import SVC\n",
    "from sklearn.neural_network import MLPClassifier"
   ]
  },
  {
   "cell_type": "code",
   "execution_count": 115,
   "metadata": {},
   "outputs": [],
   "source": [
    "state=1\n",
    "modelos = {\n",
    "    \"AdaBoost\": AdaBoostClassifier(random_state=state),\n",
    "    \"DecisionTree\": DecisionTreeClassifier(random_state=state),\n",
    "    \"RandomForest\": RandomForestClassifier(random_state=state),\n",
    "    \"ExtraTree\": ExtraTreesClassifier(random_state=state),\n",
    "    \"GradientBoost\": GradientBoostingClassifier(random_state=state),\n",
    "    \"KNN\": KNeighborsClassifier(),\n",
    "    \"LogisticRegression\": LogisticRegression(random_state=state),\n",
    "    \"NaiveBayes\": GaussianNB(),\n",
    "    \"SVM\": SVC(random_state=state),\n",
    "    \"RedeNeural\": MLPClassifier(random_state=state, max_iter=400)\n",
    "}"
   ]
  },
  {
   "cell_type": "code",
   "execution_count": null,
   "metadata": {},
   "outputs": [],
   "source": [
    "for modelo_nome in modelos:\n",
    "    modelo = modelos[modelo_nome]\n",
    "    modelo.fit(X_train,y_train)\n",
    "    previsao = modelo.predict(X_val)\n",
    "    avaliar(y_val,previsao, modelo_nome)\n",
    "    modelos[modelo_nome] = modelo"
   ]
  },
  {
   "cell_type": "markdown",
   "metadata": {},
   "source": [
    "#### 10 - melhorar o melhor modelo"
   ]
  },
  {
   "cell_type": "markdown",
   "metadata": {},
   "source": [
    "#### Agora vamos ao tunning do modelo\n",
    "- É bom sempre incluir no tunning os parâmetros \"padrões\" do modelo, para não piorar o treino"
   ]
  },
  {
   "cell_type": "code",
   "execution_count": 117,
   "metadata": {},
   "outputs": [],
   "source": [
    "from sklearn.model_selection import GridSearchCV\n",
    "from sklearn.metrics import make_scorer, precision_score\n",
    "\n",
    "modelo_final = modelos[\"RandomForest\"]\n",
    "\n",
    "n_estimators = range(10, 251, 30)\n",
    "max_features = list(range(2, 11, 2))\n",
    "max_features.append(\"auto\")\n",
    "min_samples_split = range(2, 11, 2)\n",
    "\n",
    "precision2_score = make_scorer(precision_score, pos_label=2)\n",
    "\n",
    "grid = GridSearchCV(\n",
    "    estimator=RandomForestClassifier(),\n",
    "    param_grid={\n",
    "        \"n_estimators\": n_estimators,\n",
    "        \"max_features\": max_features,\n",
    "        \"min_samples_split\": min_samples_split,\n",
    "        \"random_state\": [1],\n",
    "    },\n",
    "    scoring=precision2_score\n",
    ")"
   ]
  },
  {
   "cell_type": "code",
   "execution_count": 118,
   "metadata": {},
   "outputs": [],
   "source": [
    "resultado_grid = grid.fit(X_train,y_train)"
   ]
  },
  {
   "cell_type": "code",
   "execution_count": 119,
   "metadata": {},
   "outputs": [
    {
     "name": "stdout",
     "output_type": "stream",
     "text": [
      "RandomForest GridSearch\n",
      "              precision    recall  f1-score   support\n",
      "\n",
      "           0       0.52      0.53      0.53       749\n",
      "           2       0.53      0.52      0.52       757\n",
      "\n",
      "    accuracy                           0.53      1506\n",
      "   macro avg       0.53      0.53      0.53      1506\n",
      "weighted avg       0.53      0.53      0.53      1506\n",
      "\n"
     ]
    },
    {
     "data": {
      "image/png": "[encoded data removed]",
      "text/plain": [
       "<Figure size 640x480 with 2 Axes>"
      ]
     },
     "metadata": {},
     "output_type": "display_data"
    },
    {
     "name": "stdout",
     "output_type": "stream",
     "text": [
      "##################################################\n"
     ]
    }
   ],
   "source": [
    "modelo = resultado_grid.best_estimator_\n",
    "previsao = modelo.predict(X_val)\n",
    "\n",
    "avaliar(y_val,previsao,\"RandomForest GridSearch\")"
   ]
  },
  {
   "cell_type": "markdown",
   "metadata": {},
   "source": [
    "#### 11 - aplicar na prática e testar resultado"
   ]
  },
  {
   "cell_type": "markdown",
   "metadata": {},
   "source": [
    "#### Analisando o último trimestre de cada empresa"
   ]
  },
  {
   "cell_type": "code",
   "execution_count": 134,
   "metadata": {},
   "outputs": [],
   "source": [
    "ult_tri_fund = fundamentos.copy()\n",
    "ult_tri_base_dados = pd.DataFrame()\n",
    "lista_empresas = []"
   ]
  },
  {
   "cell_type": "code",
   "execution_count": 135,
   "metadata": {},
   "outputs": [],
   "source": [
    "for empresa in ult_tri_fund:\n",
    "    lista_empresas.append(empresa)\n",
    "    ult_tri_fund[empresa] = ult_tri_fund[empresa][-1:]\n",
    "    ult_tri_fund[empresa] = ult_tri_fund[empresa].reset_index(drop=True)\n",
    "    ult_tri_base_dados = pd.concat([ult_tri_base_dados, ult_tri_fund[empresa]])"
   ]
  },
  {
   "cell_type": "code",
   "execution_count": 136,
   "metadata": {},
   "outputs": [],
   "source": [
    "ult_tri_base_dados = ult_tri_base_dados.reset_index(drop=True)\n",
    "ult_tri_base_dados = ult_tri_base_dados[top10]\n",
    "ult_tri_base_dados = ajustar_scaler(ult_tri_base_dados)"
   ]
  },
  {
   "cell_type": "code",
   "execution_count": 138,
   "metadata": {},
   "outputs": [],
   "source": [
    "ult_tri_base_dados = ult_tri_base_dados.drop(\"Decisao\",axis=1)"
   ]
  },
  {
   "cell_type": "code",
   "execution_count": 139,
   "metadata": {},
   "outputs": [],
   "source": [
    "previsao_ult_tri = modelo.predict(ult_tri_base_dados)"
   ]
  },
  {
   "cell_type": "code",
   "execution_count": 174,
   "metadata": {},
   "outputs": [],
   "source": [
    "carteira = []\n",
    "carteira_inicial = []\n",
    "valor_investido = 100\n",
    "\n",
    "for i, empresa in enumerate(lista_empresas):\n",
    "    if previsao_ult_tri[i] == 2:\n",
    "        carteira_inicial.append(valor_investido)\n",
    "        cotacao  = cotacoes[empresa]\n",
    "        cotacao = cotacao.set_index(\"Date\")\n",
    "        cotacao_inicial = cotacao.loc[\"2020-12-31\",\"Adj Close\"]\n",
    "        cotacao_final = cotacao.loc[\"2021-03-31\",\"Adj Close\"]\n",
    "        percentual = cotacao_final / cotacao_inicial\n",
    "        carteira.append(valor_investido * percentual)"
   ]
  },
  {
   "cell_type": "code",
   "execution_count": 175,
   "metadata": {},
   "outputs": [
    {
     "name": "stdout",
     "output_type": "stream",
     "text": [
      "3200 3151.986879845576\n",
      "0.9849958999517425\n"
     ]
    }
   ],
   "source": [
    "saldo_inicial = sum(carteira_inicial)\n",
    "saldo_final = sum(carteira)\n",
    "print(saldo_inicial, saldo_final)\n",
    "print(saldo_final/saldo_inicial)"
   ]
  },
  {
   "cell_type": "code",
   "execution_count": 177,
   "metadata": {},
   "outputs": [
    {
     "name": "stdout",
     "output_type": "stream",
     "text": [
      "0.9776038086936114\n"
     ]
    }
   ],
   "source": [
    "variacao_ibov = ibov_close.loc['2021-03-31','IBOV'] / ibov_close.loc['2020-12-31','IBOV']\n",
    "print(variacao_ibov)"
   ]
  },
  {
   "cell_type": "code",
   "execution_count": null,
   "metadata": {},
   "outputs": [],
   "source": [
    "#armazenar a IA\n",
    "\n",
    "#joblib.dump(modelo, \"ia_carteiraacoes.joblib\")\n",
    "\n",
    "\n",
    "#joblib.load(\"ia_carteiraacoes.joblib\")"
   ]
  }
 ],
 "metadata": {
  "kernelspec": {
   "display_name": "Python 3",
   "language": "python",
   "name": "python3"
  },
  "language_info": {
   "codemirror_mode": {
    "name": "ipython",
    "version": 3
   },
   "file_extension": ".py",
   "mimetype": "text/x-python",
   "name": "python",
   "nbconvert_exporter": "python",
   "pygments_lexer": "ipython3",
   "version": "3.13.1"
  }
 },
 "nbformat": 4,
 "nbformat_minor": 2
}
